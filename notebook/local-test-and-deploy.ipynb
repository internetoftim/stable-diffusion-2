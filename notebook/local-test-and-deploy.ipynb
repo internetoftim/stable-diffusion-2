{
 "cells": [
  {
   "cell_type": "markdown",
   "id": "37ca952c-38ce-46fd-891e-87371f38e6ae",
   "metadata": {
    "tags": []
   },
   "source": [
    "# Build, test and deploy a Stable Diffusion 2 endpoint"
   ]
  },
  {
   "cell_type": "markdown",
   "id": "19b395b1-ceb3-4a1d-9221-79278b048a3a",
   "metadata": {},
   "source": [
    "This notebook is a walkthrough of how to take a Stable Diffusion checkpoint from Hugging Face, wrap serving code around it, and create a Docker image which makes the endpoint portable and easy to deploy in different machines. \n",
    "\n",
    "The container created will be made available in the Graphcore public registry on Dockerhub and can be used to directly launch a deployment locally or through a Container as a service (CaaS) platform. \n",
    "\n",
    "Here, we'll cover:\n",
    "* Cloning and running up the FastAPI service from this notebook to create a locally hosted endpoint.\n",
    "* How to access and send requests to the endpoint and receive model output.\n",
    "* How to build a container image and push it to a registry.\n",
    "* How to deploy a container and access the model endpoint.\n",
    "\n",
    "The public model inference images available on Graphcore's Docker Hub have all of the necessary dependencies 'baked in', including executables and model binaries, to make the process of serving up an endpoint launch with minimal warm-up time. The internals of the image are based on the [api-deployment](https://github.com/graphcore/api-deployment) repository. This is designed to be a straightforward example of serving a model with FastAPI and running up a local endpoint. Once you've tested your local endpoint functionality, you can use the same container to launch up a deployment on your target server!"
   ]
  },
  {
   "cell_type": "markdown",
   "id": "e1da73df-40f6-4b9f-8793-0bdb37f10b1b",
   "metadata": {},
   "source": [
    "First, install all required dependencies for this notebook:"
   ]
  },
  {
   "cell_type": "code",
   "execution_count": 1,
   "id": "83ee5ce4-ee50-461d-bf2a-eb06546ead37",
   "metadata": {
    "tags": []
   },
   "outputs": [
    {
     "name": "stdout",
     "output_type": "stream",
     "text": [
      "debconf: unable to initialize frontend: Dialog\n",
      "debconf: (No usable dialog-like program is installed, so the dialog based frontend cannot be used. at /usr/share/perl5/Debconf/FrontEnd/Dialog.pm line 76, <> line 1.)\n",
      "debconf: falling back to frontend: Readline\n",
      "Warning: apt-key output should not be parsed (stdout is not a terminal)\n",
      "\n",
      "WARNING: apt does not have a stable CLI interface. Use with caution in scripts.\n",
      "\n",
      "debconf: unable to initialize frontend: Dialog\n",
      "debconf: (No usable dialog-like program is installed, so the dialog based frontend cannot be used. at /usr/share/perl5/Debconf/FrontEnd/Dialog.pm line 76, <> line 25.)\n",
      "debconf: falling back to frontend: Readline\n",
      "Version:         1.22.3\n",
      "Go Version:      go1.15.2\n",
      "Image Spec:      1.0.1-dev\n",
      "Runtime Spec:    1.0.2-dev\n",
      "CNI Spec:        0.4.0\n",
      "libcni Version:  \n",
      "image Version:   5.15.2\n",
      "Git Commit:      \n",
      "Built:           Thu Jan  1 00:00:00 1970\n",
      "OS/Arch:         linux/amd64\n",
      "Collecting gradient\n",
      "  Downloading gradient-2.0.6-py2.py3-none-any.whl (147 kB)\n",
      "\u001b[2K     \u001b[90m━━━━━━━━━━━━━━━━━━━━━━━━━━━━━━━━━━━━━━━\u001b[0m \u001b[32m147.6/147.6 kB\u001b[0m \u001b[31m5.4 MB/s\u001b[0m eta \u001b[36m0:00:00\u001b[0m\n",
      "\u001b[?25hRequirement already satisfied: requests[security] in /usr/local/lib/python3.8/dist-packages (from gradient) (2.31.0)\n",
      "Requirement already satisfied: six in /usr/lib/python3/dist-packages (from gradient) (1.14.0)\n",
      "Collecting click<9.0,>=8.0.1 (from gradient)\n",
      "  Downloading click-8.1.3-py3-none-any.whl (96 kB)\n",
      "\u001b[2K     \u001b[90m━━━━━━━━━━━━━━━━━━━━━━━━━━━━━━━━━━━━━━━━\u001b[0m \u001b[32m96.6/96.6 kB\u001b[0m \u001b[31m23.7 MB/s\u001b[0m eta \u001b[36m0:00:00\u001b[0m\n",
      "\u001b[?25hCollecting terminaltables (from gradient)\n",
      "  Downloading terminaltables-3.1.10-py2.py3-none-any.whl (15 kB)\n",
      "Collecting click-didyoumean (from gradient)\n",
      "  Downloading click_didyoumean-0.3.0-py3-none-any.whl (2.7 kB)\n",
      "Collecting click-help-colors (from gradient)\n",
      "  Downloading click_help_colors-0.9.1-py3-none-any.whl (5.5 kB)\n",
      "Collecting click-completion (from gradient)\n",
      "  Downloading click-completion-0.5.2.tar.gz (10 kB)\n",
      "  Preparing metadata (setup.py) ... \u001b[?25ldone\n",
      "\u001b[?25hCollecting colorama==0.4.3 (from gradient)\n",
      "  Downloading colorama-0.4.3-py2.py3-none-any.whl (15 kB)\n",
      "Collecting requests-toolbelt (from gradient)\n",
      "  Downloading requests_toolbelt-1.0.0-py2.py3-none-any.whl (54 kB)\n",
      "\u001b[2K     \u001b[90m━━━━━━━━━━━━━━━━━━━━━━━━━━━━━━━━━━━━━━━━\u001b[0m \u001b[32m54.5/54.5 kB\u001b[0m \u001b[31m15.4 MB/s\u001b[0m eta \u001b[36m0:00:00\u001b[0m\n",
      "\u001b[?25hCollecting progressbar2 (from gradient)\n",
      "  Downloading progressbar2-4.2.0-py2.py3-none-any.whl (27 kB)\n",
      "Collecting halo (from gradient)\n",
      "  Downloading halo-0.0.31.tar.gz (11 kB)\n",
      "  Preparing metadata (setup.py) ... \u001b[?25ldone\n",
      "\u001b[?25hCollecting marshmallow<3.0 (from gradient)\n",
      "  Downloading marshmallow-2.21.0-py2.py3-none-any.whl (50 kB)\n",
      "\u001b[2K     \u001b[90m━━━━━━━━━━━━━━━━━━━━━━━━━━━━━━━━━━━━━━━━\u001b[0m \u001b[32m50.2/50.2 kB\u001b[0m \u001b[31m12.4 MB/s\u001b[0m eta \u001b[36m0:00:00\u001b[0m\n",
      "\u001b[?25hCollecting attrs<=19 (from gradient)\n",
      "  Downloading attrs-18.2.0-py2.py3-none-any.whl (34 kB)\n",
      "Requirement already satisfied: PyYAML==5.* in /usr/local/lib/python3.8/dist-packages (from gradient) (5.4.1)\n",
      "Requirement already satisfied: python-dateutil==2.* in /usr/local/lib/python3.8/dist-packages (from gradient) (2.8.2)\n",
      "Collecting websocket-client==0.57.* (from gradient)\n",
      "  Downloading websocket_client-0.57.0-py2.py3-none-any.whl (200 kB)\n",
      "\u001b[2K     \u001b[90m━━━━━━━━━━━━━━━━━━━━━━━━━━━━━━━━━━━━━━\u001b[0m \u001b[32m200.9/200.9 kB\u001b[0m \u001b[31m44.3 MB/s\u001b[0m eta \u001b[36m0:00:00\u001b[0m\n",
      "\u001b[?25hCollecting gradient-utils>=0.1.2 (from gradient)\n",
      "  Downloading gradient_utils-0.5.0-py3-none-any.whl (8.6 kB)\n",
      "Collecting gql[requests]==3.0.0a6 (from gradient)\n",
      "  Downloading gql-3.0.0a6.tar.gz (86 kB)\n",
      "\u001b[2K     \u001b[90m━━━━━━━━━━━━━━━━━━━━━━━━━━━━━━━━━━━━━━━━\u001b[0m \u001b[32m86.6/86.6 kB\u001b[0m \u001b[31m23.4 MB/s\u001b[0m eta \u001b[36m0:00:00\u001b[0m\n",
      "\u001b[?25h  Preparing metadata (setup.py) ... \u001b[?25ldone\n",
      "\u001b[?25hCollecting graphql-core<3.2,>=3.1.5 (from gql[requests]==3.0.0a6->gradient)\n",
      "  Downloading graphql_core-3.1.7-py3-none-any.whl (189 kB)\n",
      "\u001b[2K     \u001b[90m━━━━━━━━━━━━━━━━━━━━━━━━━━━━━━━━━━━━━━\u001b[0m \u001b[32m189.5/189.5 kB\u001b[0m \u001b[31m43.3 MB/s\u001b[0m eta \u001b[36m0:00:00\u001b[0m\n",
      "\u001b[?25hCollecting yarl<2.0,>=1.6 (from gql[requests]==3.0.0a6->gradient)\n",
      "  Downloading yarl-1.9.2-cp38-cp38-manylinux_2_17_x86_64.manylinux2014_x86_64.whl (266 kB)\n",
      "\u001b[2K     \u001b[90m━━━━━━━━━━━━━━━━━━━━━━━━━━━━━━━━━━━━━━\u001b[0m \u001b[32m266.9/266.9 kB\u001b[0m \u001b[31m54.5 MB/s\u001b[0m eta \u001b[36m0:00:00\u001b[0m\n",
      "\u001b[?25hCollecting prometheus-client<0.10,>=0.8 (from gradient-utils>=0.1.2->gradient)\n",
      "  Downloading prometheus_client-0.9.0-py2.py3-none-any.whl (53 kB)\n",
      "\u001b[2K     \u001b[90m━━━━━━━━━━━━━━━━━━━━━━━━━━━━━━━━━━━━━━━━\u001b[0m \u001b[32m53.8/53.8 kB\u001b[0m \u001b[31m14.3 MB/s\u001b[0m eta \u001b[36m0:00:00\u001b[0m\n",
      "\u001b[?25hCollecting pymongo<4.0.0,>=3.11.0 (from gradient-utils>=0.1.2->gradient)\n",
      "  Downloading pymongo-3.13.0-cp38-cp38-manylinux_2_17_x86_64.manylinux2014_x86_64.whl (526 kB)\n",
      "\u001b[2K     \u001b[90m━━━━━━━━━━━━━━━━━━━━━━━━━━━━━━━━━━━━━━\u001b[0m \u001b[32m526.2/526.2 kB\u001b[0m \u001b[31m67.5 MB/s\u001b[0m eta \u001b[36m0:00:00\u001b[0m\n",
      "\u001b[?25hCollecting wheel<0.36.0,>=0.35.1 (from gradient-utils>=0.1.2->gradient)\n",
      "  Downloading wheel-0.35.1-py2.py3-none-any.whl (33 kB)\n",
      "Requirement already satisfied: jinja2 in /usr/local/lib/python3.8/dist-packages (from click-completion->gradient) (3.1.2)\n",
      "Collecting shellingham (from click-completion->gradient)\n",
      "  Downloading shellingham-1.5.0.post1-py2.py3-none-any.whl (9.4 kB)\n",
      "Collecting log_symbols>=0.0.14 (from halo->gradient)\n",
      "  Downloading log_symbols-0.0.14-py3-none-any.whl (3.1 kB)\n",
      "Collecting spinners>=0.0.24 (from halo->gradient)\n",
      "  Downloading spinners-0.0.24-py3-none-any.whl (5.5 kB)\n",
      "Collecting termcolor>=1.1.0 (from halo->gradient)\n",
      "  Downloading termcolor-2.3.0-py3-none-any.whl (6.9 kB)\n",
      "Collecting python-utils>=3.0.0 (from progressbar2->gradient)\n",
      "  Downloading python_utils-3.6.0-py2.py3-none-any.whl (25 kB)\n",
      "Requirement already satisfied: charset-normalizer<4,>=2 in /usr/local/lib/python3.8/dist-packages (from requests[security]->gradient) (3.1.0)\n",
      "Requirement already satisfied: idna<4,>=2.5 in /usr/lib/python3/dist-packages (from requests[security]->gradient) (2.8)\n",
      "Requirement already satisfied: urllib3<3,>=1.21.1 in /usr/lib/python3/dist-packages (from requests[security]->gradient) (1.25.8)\n",
      "Requirement already satisfied: certifi>=2017.4.17 in /usr/lib/python3/dist-packages (from requests[security]->gradient) (2019.11.28)\n",
      "Requirement already satisfied: typing-extensions in /usr/local/lib/python3.8/dist-packages (from python-utils>=3.0.0->progressbar2->gradient) (4.6.2)\n",
      "Collecting multidict>=4.0 (from yarl<2.0,>=1.6->gql[requests]==3.0.0a6->gradient)\n",
      "  Downloading multidict-6.0.4-cp38-cp38-manylinux_2_17_x86_64.manylinux2014_x86_64.whl (121 kB)\n",
      "\u001b[2K     \u001b[90m━━━━━━━━━━━━━━━━━━━━━━━━━━━━━━━━━━━━━━\u001b[0m \u001b[32m121.3/121.3 kB\u001b[0m \u001b[31m29.6 MB/s\u001b[0m eta \u001b[36m0:00:00\u001b[0m\n",
      "\u001b[?25hRequirement already satisfied: MarkupSafe>=2.0 in /usr/local/lib/python3.8/dist-packages (from jinja2->click-completion->gradient) (2.1.2)\n",
      "Building wheels for collected packages: click-completion, halo, gql\n",
      "  Building wheel for click-completion (setup.py) ... \u001b[?25ldone\n",
      "\u001b[?25h  Created wheel for click-completion: filename=click_completion-0.5.2-py3-none-any.whl size=11189 sha256=5d8357af9bbad9efbfd137fa5f6be088106a55403360bfc7c4f0a8c2fe110a38\n",
      "  Stored in directory: /root/.cache/pip/wheels/5e/b7/ff/813f27cecf9a5054c19b566d2b4b2d8588ce46671f3d1821ce\n",
      "  Building wheel for halo (setup.py) ... \u001b[?25ldone\n",
      "\u001b[?25h  Created wheel for halo: filename=halo-0.0.31-py3-none-any.whl size=11242 sha256=e5c1563ab995681a92288ba22031bdb87d1f870763e0bbd45487650b78b2f9dd\n",
      "  Stored in directory: /root/.cache/pip/wheels/c0/74/6f/c63bb0075c49f05e692807fe383ddf2b17a52f567d637af096\n",
      "  Building wheel for gql (setup.py) ... \u001b[?25ldone\n",
      "\u001b[?25h  Created wheel for gql: filename=gql-3.0.0a6-py2.py3-none-any.whl size=34863 sha256=d6540b4ec3a1b6ff65c9f71e91235fb244760806a2d0fc202dd3fc6e73a697ae\n",
      "  Stored in directory: /root/.cache/pip/wheels/df/51/64/25328dfbaa34d8bce447a3fb08175d8f2679a610a66b45857f\n",
      "Successfully built click-completion halo gql\n",
      "Installing collected packages: spinners, prometheus-client, marshmallow, attrs, wheel, websocket-client, terminaltables, termcolor, shellingham, python-utils, pymongo, multidict, graphql-core, colorama, click, yarl, requests-toolbelt, progressbar2, log_symbols, gradient-utils, click-help-colors, click-didyoumean, click-completion, halo, gql, gradient\n",
      "  Attempting uninstall: prometheus-client\n",
      "    Found existing installation: prometheus-client 0.17.0\n",
      "    Uninstalling prometheus-client-0.17.0:\n",
      "      Successfully uninstalled prometheus-client-0.17.0\n",
      "  Attempting uninstall: attrs\n",
      "    Found existing installation: attrs 23.1.0\n",
      "    Uninstalling attrs-23.1.0:\n",
      "      Successfully uninstalled attrs-23.1.0\n",
      "  Attempting uninstall: wheel\n",
      "    Found existing installation: wheel 0.34.2\n",
      "    Uninstalling wheel-0.34.2:\n",
      "      Successfully uninstalled wheel-0.34.2\n",
      "  Attempting uninstall: websocket-client\n",
      "    Found existing installation: websocket-client 1.5.2\n",
      "    Uninstalling websocket-client-1.5.2:\n",
      "      Successfully uninstalled websocket-client-1.5.2\n",
      "  Attempting uninstall: colorama\n",
      "    Found existing installation: colorama 0.4.4\n",
      "    Uninstalling colorama-0.4.4:\n",
      "      Successfully uninstalled colorama-0.4.4\n",
      "Successfully installed attrs-18.2.0 click-8.1.3 click-completion-0.5.2 click-didyoumean-0.3.0 click-help-colors-0.9.1 colorama-0.4.3 gql-3.0.0a6 gradient-2.0.6 gradient-utils-0.5.0 graphql-core-3.1.7 halo-0.0.31 log_symbols-0.0.14 marshmallow-2.21.0 multidict-6.0.4 progressbar2-4.2.0 prometheus-client-0.9.0 pymongo-3.13.0 python-utils-3.6.0 requests-toolbelt-1.0.0 shellingham-1.5.0.post1 spinners-0.0.24 termcolor-2.3.0 terminaltables-3.1.10 websocket-client-0.57.0 wheel-0.35.1 yarl-1.9.2\n",
      "\u001b[33mWARNING: Running pip as the 'root' user can result in broken permissions and conflicting behaviour with the system package manager. It is recommended to use a virtual environment instead: https://pip.pypa.io/warnings/venv\u001b[0m\u001b[33m\n",
      "\u001b[0mCollecting gradio\n",
      "  Downloading gradio-3.34.0-py3-none-any.whl (20.0 MB)\n",
      "\u001b[2K     \u001b[90m━━━━━━━━━━━━━━━━━━━━━━━━━━━━━━━━━━━━━━━━\u001b[0m \u001b[32m20.0/20.0 MB\u001b[0m \u001b[31m57.7 MB/s\u001b[0m eta \u001b[36m0:00:00\u001b[0m00:01\u001b[0m00:01\u001b[0m\n",
      "\u001b[?25hCollecting aiofiles (from gradio)\n",
      "  Downloading aiofiles-23.1.0-py3-none-any.whl (14 kB)\n",
      "Collecting aiohttp (from gradio)\n",
      "  Downloading aiohttp-3.8.4-cp38-cp38-manylinux_2_17_x86_64.manylinux2014_x86_64.whl (1.0 MB)\n",
      "\u001b[2K     \u001b[90m━━━━━━━━━━━━━━━━━━━━━━━━━━━━━━━━━━━━━━━━\u001b[0m \u001b[32m1.0/1.0 MB\u001b[0m \u001b[31m74.7 MB/s\u001b[0m eta \u001b[36m0:00:00\u001b[0m\n",
      "\u001b[?25hCollecting altair>=4.2.0 (from gradio)\n",
      "  Downloading altair-5.0.1-py3-none-any.whl (471 kB)\n",
      "\u001b[2K     \u001b[90m━━━━━━━━━━━━━━━━━━━━━━━━━━━━━━━━━━━━━━\u001b[0m \u001b[32m471.5/471.5 kB\u001b[0m \u001b[31m71.8 MB/s\u001b[0m eta \u001b[36m0:00:00\u001b[0m\n",
      "\u001b[?25hCollecting fastapi (from gradio)\n",
      "  Downloading fastapi-0.97.0-py3-none-any.whl (56 kB)\n",
      "\u001b[2K     \u001b[90m━━━━━━━━━━━━━━━━━━━━━━━━━━━━━━━━━━━━━━━━\u001b[0m \u001b[32m57.0/57.0 kB\u001b[0m \u001b[31m9.7 MB/s\u001b[0m eta \u001b[36m0:00:00\u001b[0m\n",
      "\u001b[?25hCollecting ffmpy (from gradio)\n",
      "  Downloading ffmpy-0.3.0.tar.gz (4.8 kB)\n",
      "  Preparing metadata (setup.py) ... \u001b[?25ldone\n",
      "\u001b[?25hCollecting gradio-client>=0.2.6 (from gradio)\n",
      "  Downloading gradio_client-0.2.6-py3-none-any.whl (288 kB)\n",
      "\u001b[2K     \u001b[90m━━━━━━━━━━━━━━━━━━━━━━━━━━━━━━━━━━━━━━\u001b[0m \u001b[32m288.3/288.3 kB\u001b[0m \u001b[31m50.6 MB/s\u001b[0m eta \u001b[36m0:00:00\u001b[0m\n",
      "\u001b[?25hCollecting httpx (from gradio)\n",
      "  Downloading httpx-0.24.1-py3-none-any.whl (75 kB)\n",
      "\u001b[2K     \u001b[90m━━━━━━━━━━━━━━━━━━━━━━━━━━━━━━━━━━━━━━━━\u001b[0m \u001b[32m75.4/75.4 kB\u001b[0m \u001b[31m18.4 MB/s\u001b[0m eta \u001b[36m0:00:00\u001b[0m\n",
      "\u001b[?25hCollecting huggingface-hub>=0.14.0 (from gradio)\n",
      "  Downloading huggingface_hub-0.15.1-py3-none-any.whl (236 kB)\n",
      "\u001b[2K     \u001b[90m━━━━━━━━━━━━━━━━━━━━━━━━━━━━━━━━━━━━━━\u001b[0m \u001b[32m236.8/236.8 kB\u001b[0m \u001b[31m50.1 MB/s\u001b[0m eta \u001b[36m0:00:00\u001b[0m\n",
      "\u001b[?25hRequirement already satisfied: jinja2 in /usr/local/lib/python3.8/dist-packages (from gradio) (3.1.2)\n",
      "Collecting markdown-it-py[linkify]>=2.0.0 (from gradio)\n",
      "  Downloading markdown_it_py-3.0.0-py3-none-any.whl (87 kB)\n",
      "\u001b[2K     \u001b[90m━━━━━━━━━━━━━━━━━━━━━━━━━━━━━━━━━━━━━━━━\u001b[0m \u001b[32m87.5/87.5 kB\u001b[0m \u001b[31m21.8 MB/s\u001b[0m eta \u001b[36m0:00:00\u001b[0m\n",
      "\u001b[?25hRequirement already satisfied: markupsafe in /usr/local/lib/python3.8/dist-packages (from gradio) (2.1.2)\n",
      "Collecting matplotlib (from gradio)\n",
      "  Downloading matplotlib-3.7.1-cp38-cp38-manylinux_2_12_x86_64.manylinux2010_x86_64.whl (9.2 MB)\n",
      "\u001b[2K     \u001b[90m━━━━━━━━━━━━━━━━━━━━━━━━━━━━━━━━━━━━━━━━\u001b[0m \u001b[32m9.2/9.2 MB\u001b[0m \u001b[31m68.2 MB/s\u001b[0m eta \u001b[36m0:00:00\u001b[0m00:01\u001b[0m00:01\u001b[0m\n",
      "\u001b[?25hCollecting mdit-py-plugins<=0.3.3 (from gradio)\n",
      "  Downloading mdit_py_plugins-0.3.3-py3-none-any.whl (50 kB)\n",
      "\u001b[2K     \u001b[90m━━━━━━━━━━━━━━━━━━━━━━━━━━━━━━━━━━━━━━━━\u001b[0m \u001b[32m50.5/50.5 kB\u001b[0m \u001b[31m14.4 MB/s\u001b[0m eta \u001b[36m0:00:00\u001b[0m\n",
      "\u001b[?25hCollecting numpy (from gradio)\n",
      "  Downloading numpy-1.24.3-cp38-cp38-manylinux_2_17_x86_64.manylinux2014_x86_64.whl (17.3 MB)\n",
      "\u001b[2K     \u001b[90m━━━━━━━━━━━━━━━━━━━━━━━━━━━━━━━━━━━━━━━━\u001b[0m \u001b[32m17.3/17.3 MB\u001b[0m \u001b[31m62.6 MB/s\u001b[0m eta \u001b[36m0:00:00\u001b[0m00:01\u001b[0m00:01\u001b[0m\n",
      "\u001b[?25hCollecting orjson (from gradio)\n",
      "  Downloading orjson-3.9.1-cp38-cp38-manylinux_2_17_x86_64.manylinux2014_x86_64.whl (136 kB)\n",
      "\u001b[2K     \u001b[90m━━━━━━━━━━━━━━━━━━━━━━━━━━━━━━━━━━━━━━\u001b[0m \u001b[32m136.8/136.8 kB\u001b[0m \u001b[31m30.9 MB/s\u001b[0m eta \u001b[36m0:00:00\u001b[0m\n",
      "\u001b[?25hCollecting pandas (from gradio)\n",
      "  Downloading pandas-2.0.2-cp38-cp38-manylinux_2_17_x86_64.manylinux2014_x86_64.whl (12.3 MB)\n",
      "\u001b[2K     \u001b[90m━━━━━━━━━━━━━━━━━━━━━━━━━━━━━━━━━━━━━━━━\u001b[0m \u001b[32m12.3/12.3 MB\u001b[0m \u001b[31m65.1 MB/s\u001b[0m eta \u001b[36m0:00:00\u001b[0m00:01\u001b[0m00:01\u001b[0m\n",
      "\u001b[?25hCollecting pillow (from gradio)\n",
      "  Downloading Pillow-9.5.0-cp38-cp38-manylinux_2_28_x86_64.whl (3.4 MB)\n",
      "\u001b[2K     \u001b[90m━━━━━━━━━━━━━━━━━━━━━━━━━━━━━━━━━━━━━━━━\u001b[0m \u001b[32m3.4/3.4 MB\u001b[0m \u001b[31m70.4 MB/s\u001b[0m eta \u001b[36m0:00:00\u001b[0ma \u001b[36m0:00:01\u001b[0m\n",
      "\u001b[?25hCollecting pydantic (from gradio)\n",
      "  Downloading pydantic-1.10.9-cp38-cp38-manylinux_2_17_x86_64.manylinux2014_x86_64.whl (3.2 MB)\n",
      "\u001b[2K     \u001b[90m━━━━━━━━━━━━━━━━━━━━━━━━━━━━━━━━━━━━━━━━\u001b[0m \u001b[32m3.2/3.2 MB\u001b[0m \u001b[31m63.9 MB/s\u001b[0m eta \u001b[36m0:00:00\u001b[0m00:01\u001b[0m\n",
      "\u001b[?25hCollecting pydub (from gradio)\n",
      "  Downloading pydub-0.25.1-py2.py3-none-any.whl (32 kB)\n",
      "Requirement already satisfied: pygments>=2.12.0 in /usr/local/lib/python3.8/dist-packages (from gradio) (2.15.1)\n",
      "Collecting python-multipart (from gradio)\n",
      "  Downloading python_multipart-0.0.6-py3-none-any.whl (45 kB)\n",
      "\u001b[2K     \u001b[90m━━━━━━━━━━━━━━━━━━━━━━━━━━━━━━━━━━━━━━━━\u001b[0m \u001b[32m45.7/45.7 kB\u001b[0m \u001b[31m12.5 MB/s\u001b[0m eta \u001b[36m0:00:00\u001b[0m\n",
      "\u001b[?25hRequirement already satisfied: pyyaml in /usr/local/lib/python3.8/dist-packages (from gradio) (5.4.1)\n",
      "Requirement already satisfied: requests in /usr/local/lib/python3.8/dist-packages (from gradio) (2.31.0)\n",
      "Collecting semantic-version (from gradio)\n",
      "  Downloading semantic_version-2.10.0-py2.py3-none-any.whl (15 kB)\n",
      "Requirement already satisfied: typing-extensions in /usr/local/lib/python3.8/dist-packages (from gradio) (4.6.2)\n",
      "Collecting uvicorn>=0.14.0 (from gradio)\n",
      "  Downloading uvicorn-0.22.0-py3-none-any.whl (58 kB)\n",
      "\u001b[2K     \u001b[90m━━━━━━━━━━━━━━━━━━━━━━━━━━━━━━━━━━━━━━━━\u001b[0m \u001b[32m58.3/58.3 kB\u001b[0m \u001b[31m16.2 MB/s\u001b[0m eta \u001b[36m0:00:00\u001b[0m\n",
      "\u001b[?25hCollecting websockets>=10.0 (from gradio)\n",
      "  Downloading websockets-11.0.3-cp38-cp38-manylinux_2_5_x86_64.manylinux1_x86_64.manylinux_2_17_x86_64.manylinux2014_x86_64.whl (130 kB)\n",
      "\u001b[2K     \u001b[90m━━━━━━━━━━━━━━━━━━━━━━━━━━━━━━━━━━━━━━\u001b[0m \u001b[32m130.2/130.2 kB\u001b[0m \u001b[31m29.5 MB/s\u001b[0m eta \u001b[36m0:00:00\u001b[0m\n",
      "\u001b[?25hRequirement already satisfied: jsonschema>=3.0 in /usr/local/lib/python3.8/dist-packages (from altair>=4.2.0->gradio) (4.17.3)\n",
      "Collecting toolz (from altair>=4.2.0->gradio)\n",
      "  Downloading toolz-0.12.0-py3-none-any.whl (55 kB)\n",
      "\u001b[2K     \u001b[90m━━━━━━━━━━━━━━━━━━━━━━━━━━━━━━━━━━━━━━━━\u001b[0m \u001b[32m55.8/55.8 kB\u001b[0m \u001b[31m15.6 MB/s\u001b[0m eta \u001b[36m0:00:00\u001b[0m\n",
      "\u001b[?25hCollecting fsspec (from gradio-client>=0.2.6->gradio)\n",
      "  Downloading fsspec-2023.6.0-py3-none-any.whl (163 kB)\n",
      "\u001b[2K     \u001b[90m━━━━━━━━━━━━━━━━━━━━━━━━━━━━━━━━━━━━━━\u001b[0m \u001b[32m163.8/163.8 kB\u001b[0m \u001b[31m36.6 MB/s\u001b[0m eta \u001b[36m0:00:00\u001b[0m\n",
      "\u001b[?25hRequirement already satisfied: packaging in /usr/local/lib/python3.8/dist-packages (from gradio-client>=0.2.6->gradio) (23.1)\n",
      "Collecting filelock (from huggingface-hub>=0.14.0->gradio)\n",
      "  Downloading filelock-3.12.2-py3-none-any.whl (10 kB)\n",
      "Requirement already satisfied: tqdm>=4.42.1 in /usr/local/lib/python3.8/dist-packages (from huggingface-hub>=0.14.0->gradio) (4.65.0)\n",
      "Collecting mdurl~=0.1 (from markdown-it-py[linkify]>=2.0.0->gradio)\n",
      "  Downloading mdurl-0.1.2-py3-none-any.whl (10.0 kB)\n",
      "Collecting linkify-it-py<3,>=1 (from markdown-it-py[linkify]>=2.0.0->gradio)\n",
      "  Downloading linkify_it_py-2.0.2-py3-none-any.whl (19 kB)\n",
      "INFO: pip is looking at multiple versions of mdit-py-plugins to determine which version is compatible with other requirements. This could take a while.\n",
      "Collecting mdit-py-plugins<=0.3.3 (from gradio)\n",
      "  Downloading mdit_py_plugins-0.3.2-py3-none-any.whl (50 kB)\n",
      "\u001b[2K     \u001b[90m━━━━━━━━━━━━━━━━━━━━━━━━━━━━━━━━━━━━━━━━\u001b[0m \u001b[32m50.4/50.4 kB\u001b[0m \u001b[31m13.1 MB/s\u001b[0m eta \u001b[36m0:00:00\u001b[0m\n",
      "\u001b[?25h  Downloading mdit_py_plugins-0.3.1-py3-none-any.whl (46 kB)\n",
      "\u001b[2K     \u001b[90m━━━━━━━━━━━━━━━━━━━━━━━━━━━━━━━━━━━━━━━━\u001b[0m \u001b[32m46.5/46.5 kB\u001b[0m \u001b[31m13.5 MB/s\u001b[0m eta \u001b[36m0:00:00\u001b[0m\n",
      "\u001b[?25h  Downloading mdit_py_plugins-0.3.0-py3-none-any.whl (43 kB)\n",
      "\u001b[2K     \u001b[90m━━━━━━━━━━━━━━━━━━━━━━━━━━━━━━━━━━━━━━━━\u001b[0m \u001b[32m43.7/43.7 kB\u001b[0m \u001b[31m11.1 MB/s\u001b[0m eta \u001b[36m0:00:00\u001b[0m\n",
      "\u001b[?25h  Downloading mdit_py_plugins-0.2.8-py3-none-any.whl (41 kB)\n",
      "\u001b[2K     \u001b[90m━━━━━━━━━━━━━━━━━━━━━━━━━━━━━━━━━━━━━━━━\u001b[0m \u001b[32m41.0/41.0 kB\u001b[0m \u001b[31m10.7 MB/s\u001b[0m eta \u001b[36m0:00:00\u001b[0m\n",
      "\u001b[?25h  Downloading mdit_py_plugins-0.2.7-py3-none-any.whl (41 kB)\n",
      "\u001b[2K     \u001b[90m━━━━━━━━━━━━━━━━━━━━━━━━━━━━━━━━━━━━━━━━\u001b[0m \u001b[32m41.0/41.0 kB\u001b[0m \u001b[31m10.4 MB/s\u001b[0m eta \u001b[36m0:00:00\u001b[0m\n",
      "\u001b[?25h  Downloading mdit_py_plugins-0.2.6-py3-none-any.whl (39 kB)\n",
      "  Downloading mdit_py_plugins-0.2.5-py3-none-any.whl (39 kB)\n",
      "INFO: pip is looking at multiple versions of mdit-py-plugins to determine which version is compatible with other requirements. This could take a while.\n",
      "  Downloading mdit_py_plugins-0.2.4-py3-none-any.whl (39 kB)\n",
      "  Downloading mdit_py_plugins-0.2.3-py3-none-any.whl (39 kB)\n",
      "  Downloading mdit_py_plugins-0.2.2-py3-none-any.whl (39 kB)\n",
      "  Downloading mdit_py_plugins-0.2.1-py3-none-any.whl (38 kB)\n",
      "  Downloading mdit_py_plugins-0.2.0-py3-none-any.whl (38 kB)\n",
      "INFO: This is taking longer than usual. You might need to provide the dependency resolver with stricter constraints to reduce runtime. See https://pip.pypa.io/warnings/backtracking for guidance. If you want to abort this run, press Ctrl + C.\n",
      "  Downloading mdit_py_plugins-0.1.0-py3-none-any.whl (37 kB)\n",
      "Collecting markdown-it-py[linkify]>=2.0.0 (from gradio)\n",
      "  Downloading markdown_it_py-2.2.0-py3-none-any.whl (84 kB)\n",
      "\u001b[2K     \u001b[90m━━━━━━━━━━━━━━━━━━━━━━━━━━━━━━━━━━━━━━━━\u001b[0m \u001b[32m84.5/84.5 kB\u001b[0m \u001b[31m24.1 MB/s\u001b[0m eta \u001b[36m0:00:00\u001b[0m\n",
      "\u001b[?25hRequirement already satisfied: python-dateutil>=2.8.2 in /usr/local/lib/python3.8/dist-packages (from pandas->gradio) (2.8.2)\n",
      "Requirement already satisfied: pytz>=2020.1 in /usr/local/lib/python3.8/dist-packages (from pandas->gradio) (2023.3)\n",
      "Collecting tzdata>=2022.1 (from pandas->gradio)\n",
      "  Downloading tzdata-2023.3-py2.py3-none-any.whl (341 kB)\n",
      "\u001b[2K     \u001b[90m━━━━━━━━━━━━━━━━━━━━━━━━━━━━━━━━━━━━━━\u001b[0m \u001b[32m341.8/341.8 kB\u001b[0m \u001b[31m65.3 MB/s\u001b[0m eta \u001b[36m0:00:00\u001b[0m\n",
      "\u001b[?25hRequirement already satisfied: click>=7.0 in /usr/local/lib/python3.8/dist-packages (from uvicorn>=0.14.0->gradio) (8.1.3)\n",
      "Collecting h11>=0.8 (from uvicorn>=0.14.0->gradio)\n",
      "  Downloading h11-0.14.0-py3-none-any.whl (58 kB)\n",
      "\u001b[2K     \u001b[90m━━━━━━━━━━━━━━━━━━━━━━━━━━━━━━━━━━━━━━━━\u001b[0m \u001b[32m58.3/58.3 kB\u001b[0m \u001b[31m5.5 MB/s\u001b[0m eta \u001b[36m0:00:00\u001b[0m\n",
      "\u001b[?25hRequirement already satisfied: attrs>=17.3.0 in /usr/local/lib/python3.8/dist-packages (from aiohttp->gradio) (18.2.0)\n",
      "Requirement already satisfied: charset-normalizer<4.0,>=2.0 in /usr/local/lib/python3.8/dist-packages (from aiohttp->gradio) (3.1.0)\n",
      "Requirement already satisfied: multidict<7.0,>=4.5 in /usr/local/lib/python3.8/dist-packages (from aiohttp->gradio) (6.0.4)\n",
      "Collecting async-timeout<5.0,>=4.0.0a3 (from aiohttp->gradio)\n",
      "  Downloading async_timeout-4.0.2-py3-none-any.whl (5.8 kB)\n",
      "Requirement already satisfied: yarl<2.0,>=1.0 in /usr/local/lib/python3.8/dist-packages (from aiohttp->gradio) (1.9.2)\n",
      "Collecting frozenlist>=1.1.1 (from aiohttp->gradio)\n",
      "  Downloading frozenlist-1.3.3-cp38-cp38-manylinux_2_5_x86_64.manylinux1_x86_64.manylinux_2_17_x86_64.manylinux2014_x86_64.whl (161 kB)\n",
      "\u001b[2K     \u001b[90m━━━━━━━━━━━━━━━━━━━━━━━━━━━━━━━━━━━━━━\u001b[0m \u001b[32m161.3/161.3 kB\u001b[0m \u001b[31m34.4 MB/s\u001b[0m eta \u001b[36m0:00:00\u001b[0m\n",
      "\u001b[?25hCollecting aiosignal>=1.1.2 (from aiohttp->gradio)\n",
      "  Downloading aiosignal-1.3.1-py3-none-any.whl (7.6 kB)\n",
      "Collecting starlette<0.28.0,>=0.27.0 (from fastapi->gradio)\n",
      "  Downloading starlette-0.27.0-py3-none-any.whl (66 kB)\n",
      "\u001b[2K     \u001b[90m━━━━━━━━━━━━━━━━━━━━━━━━━━━━━━━━━━━━━━━━\u001b[0m \u001b[32m67.0/67.0 kB\u001b[0m \u001b[31m18.2 MB/s\u001b[0m eta \u001b[36m0:00:00\u001b[0m\n",
      "\u001b[?25hRequirement already satisfied: certifi in /usr/lib/python3/dist-packages (from httpx->gradio) (2019.11.28)\n",
      "Collecting httpcore<0.18.0,>=0.15.0 (from httpx->gradio)\n",
      "  Downloading httpcore-0.17.2-py3-none-any.whl (72 kB)\n",
      "\u001b[2K     \u001b[90m━━━━━━━━━━━━━━━━━━━━━━━━━━━━━━━━━━━━━━━━\u001b[0m \u001b[32m72.5/72.5 kB\u001b[0m \u001b[31m19.2 MB/s\u001b[0m eta \u001b[36m0:00:00\u001b[0m\n",
      "\u001b[?25hRequirement already satisfied: idna in /usr/lib/python3/dist-packages (from httpx->gradio) (2.8)\n",
      "Requirement already satisfied: sniffio in /usr/local/lib/python3.8/dist-packages (from httpx->gradio) (1.3.0)\n",
      "Collecting contourpy>=1.0.1 (from matplotlib->gradio)\n",
      "  Downloading contourpy-1.1.0-cp38-cp38-manylinux_2_17_x86_64.manylinux2014_x86_64.whl (300 kB)\n",
      "\u001b[2K     \u001b[90m━━━━━━━━━━━━━━━━━━━━━━━━━━━━━━━━━━━━━━\u001b[0m \u001b[32m300.4/300.4 kB\u001b[0m \u001b[31m57.8 MB/s\u001b[0m eta \u001b[36m0:00:00\u001b[0m\n",
      "\u001b[?25hCollecting cycler>=0.10 (from matplotlib->gradio)\n",
      "  Downloading cycler-0.11.0-py3-none-any.whl (6.4 kB)\n",
      "Collecting fonttools>=4.22.0 (from matplotlib->gradio)\n",
      "  Downloading fonttools-4.40.0-cp38-cp38-manylinux_2_17_x86_64.manylinux2014_x86_64.whl (4.4 MB)\n",
      "\u001b[2K     \u001b[90m━━━━━━━━━━━━━━━━━━━━━━━━━━━━━━━━━━━━━━━━\u001b[0m \u001b[32m4.4/4.4 MB\u001b[0m \u001b[31m69.7 MB/s\u001b[0m eta \u001b[36m0:00:00\u001b[0ma \u001b[36m0:00:01\u001b[0m\n",
      "\u001b[?25hCollecting kiwisolver>=1.0.1 (from matplotlib->gradio)\n",
      "  Downloading kiwisolver-1.4.4-cp38-cp38-manylinux_2_5_x86_64.manylinux1_x86_64.whl (1.2 MB)\n",
      "\u001b[2K     \u001b[90m━━━━━━━━━━━━━━━━━━━━━━━━━━━━━━━━━━━━━━━━\u001b[0m \u001b[32m1.2/1.2 MB\u001b[0m \u001b[31m66.1 MB/s\u001b[0m eta \u001b[36m0:00:00\u001b[0m\n",
      "\u001b[?25hCollecting pyparsing>=2.3.1 (from matplotlib->gradio)\n",
      "  Downloading pyparsing-3.0.9-py3-none-any.whl (98 kB)\n",
      "\u001b[2K     \u001b[90m━━━━━━━━━━━━━━━━━━━━━━━━━━━━━━━━━━━━━━━━\u001b[0m \u001b[32m98.3/98.3 kB\u001b[0m \u001b[31m26.5 MB/s\u001b[0m eta \u001b[36m0:00:00\u001b[0m\n",
      "\u001b[?25hRequirement already satisfied: importlib-resources>=3.2.0 in /usr/local/lib/python3.8/dist-packages (from matplotlib->gradio) (5.12.0)\n",
      "Requirement already satisfied: urllib3<3,>=1.21.1 in /usr/lib/python3/dist-packages (from requests->gradio) (1.25.8)\n",
      "Requirement already satisfied: anyio<5.0,>=3.0 in /usr/local/lib/python3.8/dist-packages (from httpcore<0.18.0,>=0.15.0->httpx->gradio) (3.7.0)\n",
      "Requirement already satisfied: zipp>=3.1.0 in /usr/local/lib/python3.8/dist-packages (from importlib-resources>=3.2.0->matplotlib->gradio) (3.15.0)\n",
      "Requirement already satisfied: pkgutil-resolve-name>=1.3.10 in /usr/local/lib/python3.8/dist-packages (from jsonschema>=3.0->altair>=4.2.0->gradio) (1.3.10)\n",
      "Requirement already satisfied: pyrsistent!=0.17.0,!=0.17.1,!=0.17.2,>=0.14.0 in /usr/local/lib/python3.8/dist-packages (from jsonschema>=3.0->altair>=4.2.0->gradio) (0.19.3)\n",
      "Collecting uc-micro-py (from linkify-it-py<3,>=1->markdown-it-py[linkify]>=2.0.0->gradio)\n",
      "  Downloading uc_micro_py-1.0.2-py3-none-any.whl (6.2 kB)\n",
      "Requirement already satisfied: six>=1.5 in /usr/lib/python3/dist-packages (from python-dateutil>=2.8.2->pandas->gradio) (1.14.0)\n",
      "Requirement already satisfied: exceptiongroup in /usr/local/lib/python3.8/dist-packages (from anyio<5.0,>=3.0->httpcore<0.18.0,>=0.15.0->httpx->gradio) (1.1.1)\n",
      "Building wheels for collected packages: ffmpy\n",
      "  Building wheel for ffmpy (setup.py) ... \u001b[?25ldone\n",
      "\u001b[?25h  Created wheel for ffmpy: filename=ffmpy-0.3.0-py3-none-any.whl size=4693 sha256=e07517255a62371fe35d9a9bc3d62a10727e1e5c191af636ae43609d807dadc8\n",
      "  Stored in directory: /root/.cache/pip/wheels/ff/5b/59/913b443e7369dc04b61f607a746b6f7d83fb65e2e19fcc958d\n",
      "Successfully built ffmpy\n",
      "Installing collected packages: pydub, ffmpy, websockets, uc-micro-py, tzdata, toolz, semantic-version, python-multipart, pyparsing, pydantic, pillow, orjson, numpy, mdurl, kiwisolver, h11, fsspec, frozenlist, fonttools, filelock, cycler, async-timeout, aiofiles, uvicorn, starlette, pandas, markdown-it-py, linkify-it-py, huggingface-hub, httpcore, contourpy, aiosignal, mdit-py-plugins, matplotlib, httpx, fastapi, altair, aiohttp, gradio-client, gradio\n",
      "Successfully installed aiofiles-23.1.0 aiohttp-3.8.4 aiosignal-1.3.1 altair-5.0.1 async-timeout-4.0.2 contourpy-1.1.0 cycler-0.11.0 fastapi-0.97.0 ffmpy-0.3.0 filelock-3.12.2 fonttools-4.40.0 frozenlist-1.3.3 fsspec-2023.6.0 gradio-3.34.0 gradio-client-0.2.6 h11-0.14.0 httpcore-0.17.2 httpx-0.24.1 huggingface-hub-0.15.1 kiwisolver-1.4.4 linkify-it-py-2.0.2 markdown-it-py-2.2.0 matplotlib-3.7.1 mdit-py-plugins-0.3.3 mdurl-0.1.2 numpy-1.24.3 orjson-3.9.1 pandas-2.0.2 pillow-9.5.0 pydantic-1.10.9 pydub-0.25.1 pyparsing-3.0.9 python-multipart-0.0.6 semantic-version-2.10.0 starlette-0.27.0 toolz-0.12.0 tzdata-2023.3 uc-micro-py-1.0.2 uvicorn-0.22.0 websockets-11.0.3\n",
      "\u001b[33mWARNING: Running pip as the 'root' user can result in broken permissions and conflicting behaviour with the system package manager. It is recommended to use a virtual environment instead: https://pip.pypa.io/warnings/venv\u001b[0m\u001b[33m\n",
      "\u001b[0mRequirement already satisfied: matplotlib in /usr/local/lib/python3.8/dist-packages (3.7.1)\n",
      "Requirement already satisfied: contourpy>=1.0.1 in /usr/local/lib/python3.8/dist-packages (from matplotlib) (1.1.0)\n",
      "Requirement already satisfied: cycler>=0.10 in /usr/local/lib/python3.8/dist-packages (from matplotlib) (0.11.0)\n",
      "Requirement already satisfied: fonttools>=4.22.0 in /usr/local/lib/python3.8/dist-packages (from matplotlib) (4.40.0)\n",
      "Requirement already satisfied: kiwisolver>=1.0.1 in /usr/local/lib/python3.8/dist-packages (from matplotlib) (1.4.4)\n",
      "Requirement already satisfied: numpy>=1.20 in /usr/local/lib/python3.8/dist-packages (from matplotlib) (1.24.3)\n",
      "Requirement already satisfied: packaging>=20.0 in /usr/local/lib/python3.8/dist-packages (from matplotlib) (23.1)\n",
      "Requirement already satisfied: pillow>=6.2.0 in /usr/local/lib/python3.8/dist-packages (from matplotlib) (9.5.0)\n",
      "Requirement already satisfied: pyparsing>=2.3.1 in /usr/local/lib/python3.8/dist-packages (from matplotlib) (3.0.9)\n",
      "Requirement already satisfied: python-dateutil>=2.7 in /usr/local/lib/python3.8/dist-packages (from matplotlib) (2.8.2)\n",
      "Requirement already satisfied: importlib-resources>=3.2.0 in /usr/local/lib/python3.8/dist-packages (from matplotlib) (5.12.0)\n",
      "Requirement already satisfied: zipp>=3.1.0 in /usr/local/lib/python3.8/dist-packages (from importlib-resources>=3.2.0->matplotlib) (3.15.0)\n",
      "Requirement already satisfied: six>=1.5 in /usr/lib/python3/dist-packages (from python-dateutil>=2.7->matplotlib) (1.14.0)\n",
      "\u001b[33mWARNING: Running pip as the 'root' user can result in broken permissions and conflicting behaviour with the system package manager. It is recommended to use a virtual environment instead: https://pip.pypa.io/warnings/venv\u001b[0m\u001b[33m\n",
      "\u001b[0m"
     ]
    }
   ],
   "source": [
    "! # # Buildah installation:https://fabianlee.org/2022/08/02/buildah-installing-buildah-and-podman-on-ubuntu-20-04/\n",
    "! chmod +x setup.sh\n",
    "! ./setup.sh > /dev/null\n",
    "! buildah version\n",
    "\n",
    "! pip install gradient\n",
    "! pip install gradio\n",
    "! pip install matplotlib"
   ]
  },
  {
   "cell_type": "markdown",
   "id": "56c19355-0f98-4de7-80aa-bbe0e8b21a3b",
   "metadata": {
    "tags": []
   },
   "source": [
    "## Clone the repo"
   ]
  },
  {
   "cell_type": "markdown",
   "id": "4c919ae4-6248-4e92-bb59-adba943b7f9e",
   "metadata": {},
   "source": [
    "First, clone the repository containing Stable Diffusion and the files for serving."
   ]
  },
  {
   "cell_type": "code",
   "execution_count": 2,
   "id": "d6cddbb5-df9c-414a-a3ec-9200413e0a0e",
   "metadata": {
    "execution": {
     "iopub.execute_input": "2023-06-13T20:28:06.684760Z",
     "iopub.status.busy": "2023-06-13T20:28:06.684571Z",
     "iopub.status.idle": "2023-06-13T20:28:06.871485Z",
     "shell.execute_reply": "2023-06-13T20:28:06.870697Z",
     "shell.execute_reply.started": "2023-06-13T20:28:06.684742Z"
    },
    "tags": []
   },
   "outputs": [
    {
     "name": "stdout",
     "output_type": "stream",
     "text": [
      "/notebooks/stable-diffusion-2/notebook\n"
     ]
    }
   ],
   "source": [
    "# ! git clone https://github.com/graphcore/stable-diffusion\n",
    "!pwd"
   ]
  },
  {
   "cell_type": "markdown",
   "id": "531d0bc2-e64f-47b0-ad22-8a9d39a04263",
   "metadata": {},
   "source": [
    "The repo contains all of the basic necessities for serving an endpoint using stable diffusion. The `Dockerfile` specifies requirements and builds and runs the Docker container, `src` contains the model and model specific requirements, the FastAPI based endpoint for the model, and the model-independent files for creating the server. `run_server.sh` is a script to launch the server, which can be run directly or runs automatically as part of the docker container. "
   ]
  },
  {
   "cell_type": "code",
   "execution_count": 2,
   "id": "2921f694-6e36-4c1d-92d1-8a7eb463c905",
   "metadata": {
    "tags": []
   },
   "outputs": [
    {
     "name": "stdout",
     "output_type": "stream",
     "text": [
      "Requirement already satisfied: fastapi in /usr/local/lib/python3.8/dist-packages (from -r ../requirements.txt (line 1)) (0.97.0)\n",
      "Requirement already satisfied: uvicorn in /usr/local/lib/python3.8/dist-packages (from -r ../requirements.txt (line 2)) (0.22.0)\n",
      "Requirement already satisfied: pyyaml in /usr/local/lib/python3.8/dist-packages (from -r ../requirements.txt (line 3)) (5.4.1)\n",
      "Requirement already satisfied: pydantic[dotenv] in /usr/local/lib/python3.8/dist-packages (from -r ../requirements.txt (line 4)) (1.10.9)\n",
      "Requirement already satisfied: starlette<0.28.0,>=0.27.0 in /usr/local/lib/python3.8/dist-packages (from fastapi->-r ../requirements.txt (line 1)) (0.27.0)\n",
      "Requirement already satisfied: click>=7.0 in /usr/local/lib/python3.8/dist-packages (from uvicorn->-r ../requirements.txt (line 2)) (8.1.3)\n",
      "Requirement already satisfied: h11>=0.8 in /usr/local/lib/python3.8/dist-packages (from uvicorn->-r ../requirements.txt (line 2)) (0.14.0)\n",
      "Requirement already satisfied: typing-extensions>=4.2.0 in /usr/local/lib/python3.8/dist-packages (from pydantic[dotenv]->-r ../requirements.txt (line 4)) (4.6.2)\n",
      "Collecting python-dotenv>=0.10.4 (from pydantic[dotenv]->-r ../requirements.txt (line 4))\n",
      "  Downloading python_dotenv-1.0.0-py3-none-any.whl (19 kB)\n",
      "Requirement already satisfied: anyio<5,>=3.4.0 in /usr/local/lib/python3.8/dist-packages (from starlette<0.28.0,>=0.27.0->fastapi->-r ../requirements.txt (line 1)) (3.7.0)\n",
      "Requirement already satisfied: idna>=2.8 in /usr/lib/python3/dist-packages (from anyio<5,>=3.4.0->starlette<0.28.0,>=0.27.0->fastapi->-r ../requirements.txt (line 1)) (2.8)\n",
      "Requirement already satisfied: sniffio>=1.1 in /usr/local/lib/python3.8/dist-packages (from anyio<5,>=3.4.0->starlette<0.28.0,>=0.27.0->fastapi->-r ../requirements.txt (line 1)) (1.3.0)\n",
      "Requirement already satisfied: exceptiongroup in /usr/local/lib/python3.8/dist-packages (from anyio<5,>=3.4.0->starlette<0.28.0,>=0.27.0->fastapi->-r ../requirements.txt (line 1)) (1.1.1)\n",
      "Installing collected packages: python-dotenv\n",
      "Successfully installed python-dotenv-1.0.0\n",
      "\u001b[33mWARNING: Running pip as the 'root' user can result in broken permissions and conflicting behaviour with the system package manager. It is recommended to use a virtual environment instead: https://pip.pypa.io/warnings/venv\u001b[0m\u001b[33m\n",
      "\u001b[0mLooking in links: https://download.pytorch.org/whl/cpu/torch_stable.html\n",
      "Requirement already satisfied: torch==1.13.1+cpu in /usr/local/lib/python3.8/dist-packages (from -r ../src/models/stable_diffusion_2_txt2img_512/requirements.txt (line 2)) (1.13.1+cpu)\n",
      "Collecting optimum-graphcore (from -r ../src/models/stable_diffusion_2_txt2img_512/requirements.txt (line 3))\n",
      "  Downloading optimum_graphcore-0.6.1-py3-none-any.whl (212 kB)\n",
      "\u001b[2K     \u001b[90m━━━━━━━━━━━━━━━━━━━━━━━━━━━━━━━━━━━━━━\u001b[0m \u001b[32m212.9/212.9 kB\u001b[0m \u001b[31m10.0 MB/s\u001b[0m eta \u001b[36m0:00:00\u001b[0m\n",
      "\u001b[?25hRequirement already satisfied: pillow in /usr/local/lib/python3.8/dist-packages (from -r ../src/models/stable_diffusion_2_txt2img_512/requirements.txt (line 4)) (9.5.0)\n",
      "Requirement already satisfied: typing-extensions in /usr/local/lib/python3.8/dist-packages (from torch==1.13.1+cpu->-r ../src/models/stable_diffusion_2_txt2img_512/requirements.txt (line 2)) (4.6.2)\n",
      "Collecting transformers==4.25.1 (from optimum-graphcore->-r ../src/models/stable_diffusion_2_txt2img_512/requirements.txt (line 3))\n",
      "  Downloading transformers-4.25.1-py3-none-any.whl (5.8 MB)\n",
      "\u001b[2K     \u001b[90m━━━━━━━━━━━━━━━━━━━━━━━━━━━━━━━━━━━━━━━━\u001b[0m \u001b[32m5.8/5.8 MB\u001b[0m \u001b[31m71.7 MB/s\u001b[0m eta \u001b[36m0:00:00\u001b[0m:00:01\u001b[0m0:01\u001b[0m\n",
      "\u001b[?25hCollecting optimum==1.6.1 (from optimum-graphcore->-r ../src/models/stable_diffusion_2_txt2img_512/requirements.txt (line 3))\n",
      "  Downloading optimum-1.6.1-py3-none-any.whl (222 kB)\n",
      "\u001b[2K     \u001b[90m━━━━━━━━━━━━━━━━━━━━━━━━━━━━━━━━━━━━━━\u001b[0m \u001b[32m222.6/222.6 kB\u001b[0m \u001b[31m48.2 MB/s\u001b[0m eta \u001b[36m0:00:00\u001b[0m\n",
      "\u001b[?25hCollecting diffusers[torch]==0.12.1 (from optimum-graphcore->-r ../src/models/stable_diffusion_2_txt2img_512/requirements.txt (line 3))\n",
      "  Downloading diffusers-0.12.1-py3-none-any.whl (604 kB)\n",
      "\u001b[2K     \u001b[90m━━━━━━━━━━━━━━━━━━━━━━━━━━━━━━━━━━━━━━\u001b[0m \u001b[32m604.0/604.0 kB\u001b[0m \u001b[31m74.1 MB/s\u001b[0m eta \u001b[36m0:00:00\u001b[0m\n",
      "\u001b[?25hCollecting datasets (from optimum-graphcore->-r ../src/models/stable_diffusion_2_txt2img_512/requirements.txt (line 3))\n",
      "  Downloading datasets-2.12.0-py3-none-any.whl (474 kB)\n",
      "\u001b[2K     \u001b[90m━━━━━━━━━━━━━━━━━━━━━━━━━━━━━━━━━━━━━━\u001b[0m \u001b[32m474.6/474.6 kB\u001b[0m \u001b[31m58.7 MB/s\u001b[0m eta \u001b[36m0:00:00\u001b[0m\n",
      "\u001b[?25hCollecting tokenizers (from optimum-graphcore->-r ../src/models/stable_diffusion_2_txt2img_512/requirements.txt (line 3))\n",
      "  Downloading tokenizers-0.13.3-cp38-cp38-manylinux_2_17_x86_64.manylinux2014_x86_64.whl (7.8 MB)\n",
      "\u001b[2K     \u001b[90m━━━━━━━━━━━━━━━━━━━━━━━━━━━━━━━━━━━━━━━━\u001b[0m \u001b[32m7.8/7.8 MB\u001b[0m \u001b[31m63.7 MB/s\u001b[0m eta \u001b[36m0:00:00\u001b[0m00:01\u001b[0m00:01\u001b[0mm\n",
      "\u001b[?25hCollecting typeguard (from optimum-graphcore->-r ../src/models/stable_diffusion_2_txt2img_512/requirements.txt (line 3))\n",
      "  Downloading typeguard-4.0.0-py3-none-any.whl (33 kB)\n",
      "Collecting sentencepiece (from optimum-graphcore->-r ../src/models/stable_diffusion_2_txt2img_512/requirements.txt (line 3))\n",
      "  Downloading sentencepiece-0.1.99-cp38-cp38-manylinux_2_17_x86_64.manylinux2014_x86_64.whl (1.3 MB)\n",
      "\u001b[2K     \u001b[90m━━━━━━━━━━━━━━━━━━━━━━━━━━━━━━━━━━━━━━━━\u001b[0m \u001b[32m1.3/1.3 MB\u001b[0m \u001b[31m71.1 MB/s\u001b[0m eta \u001b[36m0:00:00\u001b[0m\n",
      "\u001b[?25hCollecting scipy (from optimum-graphcore->-r ../src/models/stable_diffusion_2_txt2img_512/requirements.txt (line 3))\n",
      "  Downloading scipy-1.10.1-cp38-cp38-manylinux_2_17_x86_64.manylinux2014_x86_64.whl (34.5 MB)\n",
      "\u001b[2K     \u001b[90m━━━━━━━━━━━━━━━━━━━━━━━━━━━━━━━━━━━━━━━━\u001b[0m \u001b[32m34.5/34.5 MB\u001b[0m \u001b[31m60.7 MB/s\u001b[0m eta \u001b[36m0:00:00\u001b[0m00:01\u001b[0m00:01\u001b[0m\n",
      "\u001b[?25hRequirement already satisfied: importlib-metadata in /usr/local/lib/python3.8/dist-packages (from diffusers[torch]==0.12.1->optimum-graphcore->-r ../src/models/stable_diffusion_2_txt2img_512/requirements.txt (line 3)) (6.6.0)\n",
      "Requirement already satisfied: filelock in /usr/local/lib/python3.8/dist-packages (from diffusers[torch]==0.12.1->optimum-graphcore->-r ../src/models/stable_diffusion_2_txt2img_512/requirements.txt (line 3)) (3.12.2)\n",
      "Requirement already satisfied: huggingface-hub>=0.10.0 in /usr/local/lib/python3.8/dist-packages (from diffusers[torch]==0.12.1->optimum-graphcore->-r ../src/models/stable_diffusion_2_txt2img_512/requirements.txt (line 3)) (0.15.1)\n",
      "Requirement already satisfied: numpy in /usr/local/lib/python3.8/dist-packages (from diffusers[torch]==0.12.1->optimum-graphcore->-r ../src/models/stable_diffusion_2_txt2img_512/requirements.txt (line 3)) (1.24.3)\n",
      "Collecting regex!=2019.12.17 (from diffusers[torch]==0.12.1->optimum-graphcore->-r ../src/models/stable_diffusion_2_txt2img_512/requirements.txt (line 3))\n",
      "  Downloading regex-2023.6.3-cp38-cp38-manylinux_2_17_x86_64.manylinux2014_x86_64.whl (772 kB)\n",
      "\u001b[2K     \u001b[90m━━━━━━━━━━━━━━━━━━━━━━━━━━━━━━━━━━━━━━\u001b[0m \u001b[32m772.3/772.3 kB\u001b[0m \u001b[31m71.0 MB/s\u001b[0m eta \u001b[36m0:00:00\u001b[0m\n",
      "\u001b[?25hRequirement already satisfied: requests in /usr/local/lib/python3.8/dist-packages (from diffusers[torch]==0.12.1->optimum-graphcore->-r ../src/models/stable_diffusion_2_txt2img_512/requirements.txt (line 3)) (2.31.0)\n",
      "Collecting accelerate>=0.11.0 (from diffusers[torch]==0.12.1->optimum-graphcore->-r ../src/models/stable_diffusion_2_txt2img_512/requirements.txt (line 3))\n",
      "  Downloading accelerate-0.20.3-py3-none-any.whl (227 kB)\n",
      "\u001b[2K     \u001b[90m━━━━━━━━━━━━━━━━━━━━━━━━━━━━━━━━━━━━━━\u001b[0m \u001b[32m227.6/227.6 kB\u001b[0m \u001b[31m43.1 MB/s\u001b[0m eta \u001b[36m0:00:00\u001b[0m\n",
      "\u001b[?25hCollecting coloredlogs (from optimum==1.6.1->optimum-graphcore->-r ../src/models/stable_diffusion_2_txt2img_512/requirements.txt (line 3))\n",
      "  Downloading coloredlogs-15.0.1-py2.py3-none-any.whl (46 kB)\n",
      "\u001b[2K     \u001b[90m━━━━━━━━━━━━━━━━━━━━━━━━━━━━━━━━━━━━━━━━\u001b[0m \u001b[32m46.0/46.0 kB\u001b[0m \u001b[31m12.1 MB/s\u001b[0m eta \u001b[36m0:00:00\u001b[0m\n",
      "\u001b[?25hCollecting sympy (from optimum==1.6.1->optimum-graphcore->-r ../src/models/stable_diffusion_2_txt2img_512/requirements.txt (line 3))\n",
      "  Downloading sympy-1.12-py3-none-any.whl (5.7 MB)\n",
      "\u001b[2K     \u001b[90m━━━━━━━━━━━━━━━━━━━━━━━━━━━━━━━━━━━━━━━━\u001b[0m \u001b[32m5.7/5.7 MB\u001b[0m \u001b[31m81.0 MB/s\u001b[0m eta \u001b[36m0:00:00\u001b[0m:00:01\u001b[0m00:01\u001b[0m\n",
      "\u001b[?25hCollecting transformers[sentencepiece]>=4.20.1 (from optimum==1.6.1->optimum-graphcore->-r ../src/models/stable_diffusion_2_txt2img_512/requirements.txt (line 3))\n",
      "  Downloading transformers-4.30.2-py3-none-any.whl (7.2 MB)\n",
      "\u001b[2K     \u001b[90m━━━━━━━━━━━━━━━━━━━━━━━━━━━━━━━━━━━━━━━━\u001b[0m \u001b[32m7.2/7.2 MB\u001b[0m \u001b[31m83.4 MB/s\u001b[0m eta \u001b[36m0:00:00\u001b[0m:00:01\u001b[0m00:01\u001b[0m\n",
      "\u001b[?25hRequirement already satisfied: packaging in /usr/local/lib/python3.8/dist-packages (from optimum==1.6.1->optimum-graphcore->-r ../src/models/stable_diffusion_2_txt2img_512/requirements.txt (line 3)) (23.1)\n",
      "Collecting numpy (from diffusers[torch]==0.12.1->optimum-graphcore->-r ../src/models/stable_diffusion_2_txt2img_512/requirements.txt (line 3))\n",
      "  Downloading numpy-1.23.5-cp38-cp38-manylinux_2_17_x86_64.manylinux2014_x86_64.whl (17.1 MB)\n",
      "\u001b[2K     \u001b[90m━━━━━━━━━━━━━━━━━━━━━━━━━━━━━━━━━━━━━━━━\u001b[0m \u001b[32m17.1/17.1 MB\u001b[0m \u001b[31m74.6 MB/s\u001b[0m eta \u001b[36m0:00:00\u001b[0m00:01\u001b[0m00:01\u001b[0m\n",
      "\u001b[?25hRequirement already satisfied: pyyaml>=5.1 in /usr/local/lib/python3.8/dist-packages (from transformers==4.25.1->optimum-graphcore->-r ../src/models/stable_diffusion_2_txt2img_512/requirements.txt (line 3)) (5.4.1)\n",
      "Requirement already satisfied: tqdm>=4.27 in /usr/local/lib/python3.8/dist-packages (from transformers==4.25.1->optimum-graphcore->-r ../src/models/stable_diffusion_2_txt2img_512/requirements.txt (line 3)) (4.65.0)\n",
      "Collecting pyarrow>=8.0.0 (from datasets->optimum-graphcore->-r ../src/models/stable_diffusion_2_txt2img_512/requirements.txt (line 3))\n",
      "  Downloading pyarrow-12.0.1-cp38-cp38-manylinux_2_17_x86_64.manylinux2014_x86_64.whl (39.0 MB)\n",
      "\u001b[2K     \u001b[90m━━━━━━━━━━━━━━━━━━━━━━━━━━━━━━━━━━━━━━━━\u001b[0m \u001b[32m39.0/39.0 MB\u001b[0m \u001b[31m59.9 MB/s\u001b[0m eta \u001b[36m0:00:00\u001b[0m00:01\u001b[0m00:01\u001b[0m\n",
      "\u001b[?25hCollecting dill<0.3.7,>=0.3.0 (from datasets->optimum-graphcore->-r ../src/models/stable_diffusion_2_txt2img_512/requirements.txt (line 3))\n",
      "  Downloading dill-0.3.6-py3-none-any.whl (110 kB)\n",
      "\u001b[2K     \u001b[90m━━━━━━━━━━━━━━━━━━━━━━━━━━━━━━━━━━━━━━\u001b[0m \u001b[32m110.5/110.5 kB\u001b[0m \u001b[31m29.5 MB/s\u001b[0m eta \u001b[36m0:00:00\u001b[0m\n",
      "\u001b[?25hRequirement already satisfied: pandas in /usr/local/lib/python3.8/dist-packages (from datasets->optimum-graphcore->-r ../src/models/stable_diffusion_2_txt2img_512/requirements.txt (line 3)) (2.0.2)\n",
      "Collecting xxhash (from datasets->optimum-graphcore->-r ../src/models/stable_diffusion_2_txt2img_512/requirements.txt (line 3))\n",
      "  Downloading xxhash-3.2.0-cp38-cp38-manylinux_2_17_x86_64.manylinux2014_x86_64.whl (213 kB)\n",
      "\u001b[2K     \u001b[90m━━━━━━━━━━━━━━━━━━━━━━━━━━━━━━━━━━━━━━\u001b[0m \u001b[32m213.0/213.0 kB\u001b[0m \u001b[31m45.5 MB/s\u001b[0m eta \u001b[36m0:00:00\u001b[0m\n",
      "\u001b[?25hCollecting multiprocess (from datasets->optimum-graphcore->-r ../src/models/stable_diffusion_2_txt2img_512/requirements.txt (line 3))\n",
      "  Downloading multiprocess-0.70.14-py38-none-any.whl (132 kB)\n",
      "\u001b[2K     \u001b[90m━━━━━━━━━━━━━━━━━━━━━━━━━━━━━━━━━━━━━━\u001b[0m \u001b[32m132.0/132.0 kB\u001b[0m \u001b[31m25.6 MB/s\u001b[0m eta \u001b[36m0:00:00\u001b[0m\n",
      "\u001b[?25hRequirement already satisfied: fsspec[http]>=2021.11.1 in /usr/local/lib/python3.8/dist-packages (from datasets->optimum-graphcore->-r ../src/models/stable_diffusion_2_txt2img_512/requirements.txt (line 3)) (2023.6.0)\n",
      "Requirement already satisfied: aiohttp in /usr/local/lib/python3.8/dist-packages (from datasets->optimum-graphcore->-r ../src/models/stable_diffusion_2_txt2img_512/requirements.txt (line 3)) (3.8.4)\n",
      "Collecting responses<0.19 (from datasets->optimum-graphcore->-r ../src/models/stable_diffusion_2_txt2img_512/requirements.txt (line 3))\n",
      "  Downloading responses-0.18.0-py3-none-any.whl (38 kB)\n",
      "Collecting psutil (from accelerate>=0.11.0->diffusers[torch]==0.12.1->optimum-graphcore->-r ../src/models/stable_diffusion_2_txt2img_512/requirements.txt (line 3))\n",
      "  Downloading psutil-5.9.5-cp36-abi3-manylinux_2_12_x86_64.manylinux2010_x86_64.manylinux_2_17_x86_64.manylinux2014_x86_64.whl (282 kB)\n",
      "\u001b[2K     \u001b[90m━━━━━━━━━━━━━━━━━━━━━━━━━━━━━━━━━━━━━━\u001b[0m \u001b[32m282.1/282.1 kB\u001b[0m \u001b[31m54.7 MB/s\u001b[0m eta \u001b[36m0:00:00\u001b[0m\n",
      "\u001b[?25hRequirement already satisfied: attrs>=17.3.0 in /usr/local/lib/python3.8/dist-packages (from aiohttp->datasets->optimum-graphcore->-r ../src/models/stable_diffusion_2_txt2img_512/requirements.txt (line 3)) (18.2.0)\n",
      "Requirement already satisfied: charset-normalizer<4.0,>=2.0 in /usr/local/lib/python3.8/dist-packages (from aiohttp->datasets->optimum-graphcore->-r ../src/models/stable_diffusion_2_txt2img_512/requirements.txt (line 3)) (3.1.0)\n",
      "Requirement already satisfied: multidict<7.0,>=4.5 in /usr/local/lib/python3.8/dist-packages (from aiohttp->datasets->optimum-graphcore->-r ../src/models/stable_diffusion_2_txt2img_512/requirements.txt (line 3)) (6.0.4)\n",
      "Requirement already satisfied: async-timeout<5.0,>=4.0.0a3 in /usr/local/lib/python3.8/dist-packages (from aiohttp->datasets->optimum-graphcore->-r ../src/models/stable_diffusion_2_txt2img_512/requirements.txt (line 3)) (4.0.2)\n",
      "Requirement already satisfied: yarl<2.0,>=1.0 in /usr/local/lib/python3.8/dist-packages (from aiohttp->datasets->optimum-graphcore->-r ../src/models/stable_diffusion_2_txt2img_512/requirements.txt (line 3)) (1.9.2)\n",
      "Requirement already satisfied: frozenlist>=1.1.1 in /usr/local/lib/python3.8/dist-packages (from aiohttp->datasets->optimum-graphcore->-r ../src/models/stable_diffusion_2_txt2img_512/requirements.txt (line 3)) (1.3.3)\n",
      "Requirement already satisfied: aiosignal>=1.1.2 in /usr/local/lib/python3.8/dist-packages (from aiohttp->datasets->optimum-graphcore->-r ../src/models/stable_diffusion_2_txt2img_512/requirements.txt (line 3)) (1.3.1)\n",
      "Requirement already satisfied: zipp>=0.5 in /usr/local/lib/python3.8/dist-packages (from importlib-metadata->diffusers[torch]==0.12.1->optimum-graphcore->-r ../src/models/stable_diffusion_2_txt2img_512/requirements.txt (line 3)) (3.15.0)\n",
      "Requirement already satisfied: idna<4,>=2.5 in /usr/lib/python3/dist-packages (from requests->diffusers[torch]==0.12.1->optimum-graphcore->-r ../src/models/stable_diffusion_2_txt2img_512/requirements.txt (line 3)) (2.8)\n",
      "Requirement already satisfied: urllib3<3,>=1.21.1 in /usr/lib/python3/dist-packages (from requests->diffusers[torch]==0.12.1->optimum-graphcore->-r ../src/models/stable_diffusion_2_txt2img_512/requirements.txt (line 3)) (1.25.8)\n",
      "Requirement already satisfied: certifi>=2017.4.17 in /usr/lib/python3/dist-packages (from requests->diffusers[torch]==0.12.1->optimum-graphcore->-r ../src/models/stable_diffusion_2_txt2img_512/requirements.txt (line 3)) (2019.11.28)\n",
      "Collecting urllib3<3,>=1.21.1 (from requests->diffusers[torch]==0.12.1->optimum-graphcore->-r ../src/models/stable_diffusion_2_txt2img_512/requirements.txt (line 3))\n",
      "  Downloading urllib3-2.0.3-py3-none-any.whl (123 kB)\n",
      "\u001b[2K     \u001b[90m━━━━━━━━━━━━━━━━━━━━━━━━━━━━━━━━━━━━━━\u001b[0m \u001b[32m123.6/123.6 kB\u001b[0m \u001b[31m31.2 MB/s\u001b[0m eta \u001b[36m0:00:00\u001b[0m\n",
      "\u001b[?25hINFO: pip is looking at multiple versions of transformers[sentencepiece] to determine which version is compatible with other requirements. This could take a while.\n",
      "Collecting transformers[sentencepiece]>=4.20.1 (from optimum==1.6.1->optimum-graphcore->-r ../src/models/stable_diffusion_2_txt2img_512/requirements.txt (line 3))\n",
      "  Downloading transformers-4.30.1-py3-none-any.whl (7.2 MB)\n",
      "\u001b[2K     \u001b[90m━━━━━━━━━━━━━━━━━━━━━━━━━━━━━━━━━━━━━━━━\u001b[0m \u001b[32m7.2/7.2 MB\u001b[0m \u001b[31m77.8 MB/s\u001b[0m eta \u001b[36m0:00:00\u001b[0m:00:01\u001b[0m00:01\u001b[0m\n",
      "\u001b[?25h  Downloading transformers-4.30.0-py3-none-any.whl (7.2 MB)\n",
      "\u001b[2K     \u001b[90m━━━━━━━━━━━━━━━━━━━━━━━━━━━━━━━━━━━━━━━━\u001b[0m \u001b[32m7.2/7.2 MB\u001b[0m \u001b[31m73.7 MB/s\u001b[0m eta \u001b[36m0:00:00\u001b[0m:00:01\u001b[0m00:01\u001b[0m\n",
      "\u001b[?25h  Downloading transformers-4.29.2-py3-none-any.whl (7.1 MB)\n",
      "\u001b[2K     \u001b[90m━━━━━━━━━━━━━━━━━━━━━━━━━━━━━━━━━━━━━━━━\u001b[0m \u001b[32m7.1/7.1 MB\u001b[0m \u001b[31m69.8 MB/s\u001b[0m eta \u001b[36m0:00:00\u001b[0ma \u001b[36m0:00:01\u001b[0m\n",
      "\u001b[?25h  Downloading transformers-4.29.1-py3-none-any.whl (7.1 MB)\n",
      "\u001b[2K     \u001b[90m━━━━━━━━━━━━━━━━━━━━━━━━━━━━━━━━━━━━━━━━\u001b[0m \u001b[32m7.1/7.1 MB\u001b[0m \u001b[31m76.9 MB/s\u001b[0m eta \u001b[36m0:00:00\u001b[0m:00:01\u001b[0m00:01\u001b[0m\n",
      "\u001b[?25h  Downloading transformers-4.29.0-py3-none-any.whl (7.1 MB)\n",
      "\u001b[2K     \u001b[90m━━━━━━━━━━━━━━━━━━━━━━━━━━━━━━━━━━━━━━━━\u001b[0m \u001b[32m7.1/7.1 MB\u001b[0m \u001b[31m64.0 MB/s\u001b[0m eta \u001b[36m0:00:00\u001b[0m:00:01\u001b[0m00:01\u001b[0m\n",
      "\u001b[?25h  Downloading transformers-4.28.1-py3-none-any.whl (7.0 MB)\n",
      "\u001b[2K     \u001b[90m━━━━━━━━━━━━━━━━━━━━━━━━━━━━━━━━━━━━━━━━\u001b[0m \u001b[32m7.0/7.0 MB\u001b[0m \u001b[31m72.6 MB/s\u001b[0m eta \u001b[36m0:00:00\u001b[0m:00:01\u001b[0m00:01\u001b[0m\n",
      "\u001b[?25h  Downloading transformers-4.28.0-py3-none-any.whl (7.0 MB)\n",
      "\u001b[2K     \u001b[90m━━━━━━━━━━━━━━━━━━━━━━━━━━━━━━━━━━━━━━━━\u001b[0m \u001b[32m7.0/7.0 MB\u001b[0m \u001b[31m75.0 MB/s\u001b[0m eta \u001b[36m0:00:00\u001b[0m:00:01\u001b[0m00:01\u001b[0m\n",
      "\u001b[?25hINFO: pip is looking at multiple versions of transformers[sentencepiece] to determine which version is compatible with other requirements. This could take a while.\n",
      "  Downloading transformers-4.27.4-py3-none-any.whl (6.8 MB)\n",
      "\u001b[2K     \u001b[90m━━━━━━━━━━━━━━━━━━━━━━━━━━━━━━━━━━━━━━━━\u001b[0m \u001b[32m6.8/6.8 MB\u001b[0m \u001b[31m78.5 MB/s\u001b[0m eta \u001b[36m0:00:00\u001b[0m:00:01\u001b[0m00:01\u001b[0m\n",
      "\u001b[?25h  Downloading transformers-4.27.3-py3-none-any.whl (6.8 MB)\n",
      "\u001b[2K     \u001b[90m━━━━━━━━━━━━━━━━━━━━━━━━━━━━━━━━━━━━━━━━\u001b[0m \u001b[32m6.8/6.8 MB\u001b[0m \u001b[31m74.8 MB/s\u001b[0m eta \u001b[36m0:00:00\u001b[0m:00:01\u001b[0m00:01\u001b[0m\n",
      "\u001b[?25h  Downloading transformers-4.27.2-py3-none-any.whl (6.8 MB)\n",
      "\u001b[2K     \u001b[90m━━━━━━━━━━━━━━━━━━━━━━━━━━━━━━━━━━━━━━━━\u001b[0m \u001b[32m6.8/6.8 MB\u001b[0m \u001b[31m83.7 MB/s\u001b[0m eta \u001b[36m0:00:00\u001b[0m:00:01\u001b[0m00:01\u001b[0m\n",
      "\u001b[?25h  Downloading transformers-4.27.1-py3-none-any.whl (6.7 MB)\n",
      "\u001b[2K     \u001b[90m━━━━━━━━━━━━━━━━━━━━━━━━━━━━━━━━━━━━━━━━\u001b[0m \u001b[32m6.7/6.7 MB\u001b[0m \u001b[31m81.6 MB/s\u001b[0m eta \u001b[36m0:00:00\u001b[0m:00:01\u001b[0m00:01\u001b[0m\n",
      "\u001b[?25h  Downloading transformers-4.27.0-py3-none-any.whl (6.8 MB)\n",
      "\u001b[2K     \u001b[90m━━━━━━━━━━━━━━━━━━━━━━━━━━━━━━━━━━━━━━━━\u001b[0m \u001b[32m6.8/6.8 MB\u001b[0m \u001b[31m83.2 MB/s\u001b[0m eta \u001b[36m0:00:00\u001b[0m:00:01\u001b[0m00:01\u001b[0m\n",
      "\u001b[?25hINFO: This is taking longer than usual. You might need to provide the dependency resolver with stricter constraints to reduce runtime. See https://pip.pypa.io/warnings/backtracking for guidance. If you want to abort this run, press Ctrl + C.\n",
      "  Downloading transformers-4.26.1-py3-none-any.whl (6.3 MB)\n",
      "\u001b[2K     \u001b[90m━━━━━━━━━━━━━━━━━━━━━━━━━━━━━━━━━━━━━━━━\u001b[0m \u001b[32m6.3/6.3 MB\u001b[0m \u001b[31m81.3 MB/s\u001b[0m eta \u001b[36m0:00:00\u001b[0m:00:01\u001b[0m00:01\u001b[0m\n",
      "\u001b[?25h  Downloading transformers-4.26.0-py3-none-any.whl (6.3 MB)\n",
      "\u001b[2K     \u001b[90m━━━━━━━━━━━━━━━━━━━━━━━━━━━━━━━━━━━━━━━━\u001b[0m \u001b[32m6.3/6.3 MB\u001b[0m \u001b[31m80.1 MB/s\u001b[0m eta \u001b[36m0:00:00\u001b[0m:00:01\u001b[0m00:01\u001b[0m\n",
      "\u001b[?25hRequirement already satisfied: protobuf<=3.20.2 in /usr/lib/python3/dist-packages (from transformers==4.25.1->optimum-graphcore->-r ../src/models/stable_diffusion_2_txt2img_512/requirements.txt (line 3)) (3.6.1)\n",
      "Collecting humanfriendly>=9.1 (from coloredlogs->optimum==1.6.1->optimum-graphcore->-r ../src/models/stable_diffusion_2_txt2img_512/requirements.txt (line 3))\n",
      "  Downloading humanfriendly-10.0-py2.py3-none-any.whl (86 kB)\n",
      "\u001b[2K     \u001b[90m━━━━━━━━━━━━━━━━━━━━━━━━━━━━━━━━━━━━━━━━\u001b[0m \u001b[32m86.8/86.8 kB\u001b[0m \u001b[31m9.5 MB/s\u001b[0m eta \u001b[36m0:00:00\u001b[0m\n",
      "\u001b[?25hRequirement already satisfied: python-dateutil>=2.8.2 in /usr/local/lib/python3.8/dist-packages (from pandas->datasets->optimum-graphcore->-r ../src/models/stable_diffusion_2_txt2img_512/requirements.txt (line 3)) (2.8.2)\n",
      "Requirement already satisfied: pytz>=2020.1 in /usr/local/lib/python3.8/dist-packages (from pandas->datasets->optimum-graphcore->-r ../src/models/stable_diffusion_2_txt2img_512/requirements.txt (line 3)) (2023.3)\n",
      "Requirement already satisfied: tzdata>=2022.1 in /usr/local/lib/python3.8/dist-packages (from pandas->datasets->optimum-graphcore->-r ../src/models/stable_diffusion_2_txt2img_512/requirements.txt (line 3)) (2023.3)\n",
      "Collecting mpmath>=0.19 (from sympy->optimum==1.6.1->optimum-graphcore->-r ../src/models/stable_diffusion_2_txt2img_512/requirements.txt (line 3))\n",
      "  Downloading mpmath-1.3.0-py3-none-any.whl (536 kB)\n",
      "\u001b[2K     \u001b[90m━━━━━━━━━━━━━━━━━━━━━━━━━━━━━━━━━━━━━━\u001b[0m \u001b[32m536.2/536.2 kB\u001b[0m \u001b[31m65.3 MB/s\u001b[0m eta \u001b[36m0:00:00\u001b[0m\n",
      "\u001b[?25hRequirement already satisfied: six>=1.5 in /usr/lib/python3/dist-packages (from python-dateutil>=2.8.2->pandas->datasets->optimum-graphcore->-r ../src/models/stable_diffusion_2_txt2img_512/requirements.txt (line 3)) (1.14.0)\n",
      "Installing collected packages: tokenizers, sentencepiece, mpmath, xxhash, urllib3, sympy, regex, psutil, numpy, humanfriendly, dill, typeguard, scipy, pyarrow, multiprocess, coloredlogs, accelerate, responses, transformers, diffusers, datasets, optimum, optimum-graphcore\n",
      "  Attempting uninstall: urllib3\n",
      "    Found existing installation: urllib3 1.25.8\n",
      "    Uninstalling urllib3-1.25.8:\n",
      "      Successfully uninstalled urllib3-1.25.8\n",
      "  Attempting uninstall: numpy\n",
      "    Found existing installation: numpy 1.24.3\n",
      "    Uninstalling numpy-1.24.3:\n",
      "      Successfully uninstalled numpy-1.24.3\n",
      "\u001b[31mERROR: pip's dependency resolver does not currently take into account all the packages that are installed. This behaviour is the source of the following dependency conflicts.\n",
      "botocore 1.29.143 requires urllib3<1.27,>=1.25.4, but you have urllib3 2.0.3 which is incompatible.\u001b[0m\u001b[31m\n",
      "\u001b[0mSuccessfully installed accelerate-0.20.3 coloredlogs-15.0.1 datasets-2.12.0 diffusers-0.12.1 dill-0.3.6 humanfriendly-10.0 mpmath-1.3.0 multiprocess-0.70.14 numpy-1.23.5 optimum-1.6.1 optimum-graphcore-0.6.1 psutil-5.9.5 pyarrow-12.0.1 regex-2023.6.3 responses-0.18.0 scipy-1.10.1 sentencepiece-0.1.99 sympy-1.12 tokenizers-0.13.3 transformers-4.25.1 typeguard-4.0.0 urllib3-2.0.3 xxhash-3.2.0\n",
      "\u001b[33mWARNING: Running pip as the 'root' user can result in broken permissions and conflicting behaviour with the system package manager. It is recommended to use a virtual environment instead: https://pip.pypa.io/warnings/venv\u001b[0m\u001b[33m\n",
      "\u001b[0m"
     ]
    }
   ],
   "source": [
    "# !cd /notebooks/sd/stable-diffusion-2/notebook/\n",
    "!pip install -r ../requirements.txt && pip install -r ../src/models/stable_diffusion_2_txt2img_512/requirements.txt\n"
   ]
  },
  {
   "cell_type": "markdown",
   "id": "8d91f04c-fa46-450b-93d2-cc0411f0fc5a",
   "metadata": {
    "tags": []
   },
   "source": [
    "## Run a local endpoint"
   ]
  },
  {
   "cell_type": "markdown",
   "id": "944105df-9fd9-46da-b8e6-f136d753a7be",
   "metadata": {
    "tags": []
   },
   "source": [
    "While building the container with all features/executables baked in is needed for launching a public Paperspace deployment, it is not a necessary step if you want to test and run the endpoint locally, as we can do this directly from the repo using the `run_server.sh` script. \n",
    "\n",
    "First, install all of the dependencies for serving the model, as well as for the model itself."
   ]
  },
  {
   "cell_type": "code",
   "execution_count": 2,
   "id": "3c4791ed-5c6d-44d0-a244-0846db4cc956",
   "metadata": {},
   "outputs": [
    {
     "name": "stdout",
     "output_type": "stream",
     "text": [
      "/bin/bash: line 0: cd: stable-diffusion: No such file or directory\n"
     ]
    }
   ],
   "source": [
    "# ! cd stable-diffusion && pip install -r requirements.txt && pip install -r src/models/stable_diffusion_2_txt2img_512/requirements.txt"
   ]
  },
  {
   "cell_type": "markdown",
   "id": "3d51bf4d-0fb2-47b7-9270-60f6c28ad0f7",
   "metadata": {},
   "source": [
    "The terminal output when running the server is 'endless', and will block the above cell from ending, so for the purpose of the notebook we run the server as a background process. Once this command is run, the endpoint server will start warming up, performing any necessary preparation required to use the endpoint, such as building the model executables or creating and loading any other required binaries."
   ]
  },
  {
   "cell_type": "code",
   "execution_count": 4,
   "id": "cd37f6db-053e-45d8-8608-0a32b040ed18",
   "metadata": {
    "execution": {
     "iopub.execute_input": "2023-06-13T20:33:33.661381Z",
     "iopub.status.busy": "2023-06-13T20:33:33.661110Z",
     "iopub.status.idle": "2023-06-13T20:33:33.665234Z",
     "shell.execute_reply": "2023-06-13T20:33:33.664634Z",
     "shell.execute_reply.started": "2023-06-13T20:33:33.661356Z"
    },
    "tags": []
   },
   "outputs": [],
   "source": [
    "import os\n",
    "_STORE_SYSTEM = get_ipython().system\n",
    "get_ipython().system = os.system # Allows running server processes in background in notebook\n",
    "\n",
    "# Let's open a terminal and run the following command\n",
    "\n",
    "\n",
    "# ! cd stable-diffusion-2/ && ./run_server.sh &\n",
    "\n",
    "# get_ipython().system = _STORE_SYSTEM # Revert back to original iPython shell after starting server"
   ]
  },
  {
   "cell_type": "code",
   "execution_count": null,
   "id": "3d8228a0-80b7-4c12-b159-9ba81dae4f6d",
   "metadata": {},
   "outputs": [],
   "source": [
    "from huggingface_hub import hf_hub_download\n",
    "hf_hub_download(repo_id=\"internetoftim/gc-sd2\", filename=\"exe_cache/stable-diffusion-512-v2-1_pod8/210126882926148441.popef\")\n"
   ]
  },
  {
   "cell_type": "code",
   "execution_count": null,
   "id": "c06c92a3-3971-4cf1-990c-282a3e39a700",
   "metadata": {},
   "outputs": [],
   "source": []
  },
  {
   "cell_type": "code",
   "execution_count": null,
   "id": "8675db68-818a-4b4a-aed5-39a007e9a161",
   "metadata": {},
   "outputs": [],
   "source": []
  },
  {
   "cell_type": "code",
   "execution_count": null,
   "id": "103ddde5-4aeb-41f2-82d8-b2650d49d97e",
   "metadata": {},
   "outputs": [],
   "source": []
  },
  {
   "cell_type": "code",
   "execution_count": null,
   "id": "01c334d5-fd2f-4601-a7a4-cd1f64a0526b",
   "metadata": {},
   "outputs": [],
   "source": [
    "# When you run the server, a compiled graph is required, you will need to download this\n",
    "# Download the graph compilation\n",
    "# <TODO> Put an image of the Model pipeline and discuss why it is getting split up\n"
   ]
  },
  {
   "cell_type": "markdown",
   "id": "9f294c0e-706a-4298-926a-19faefa88936",
   "metadata": {},
   "source": [
    "In either instance, we need to wait for the server to be ready before actually sending any requests to the endpoint. We can wait for the built-in server health-check feature to return a positive status using a simple looping function. For Stable Diffusion, this step may take up to a few minutes. First, import the necessary packages for the function:"
   ]
  },
  {
   "cell_type": "code",
   "execution_count": 8,
   "id": "ce50c7a2-08d9-4dd0-bf4e-642bea1b22bd",
   "metadata": {
    "execution": {
     "iopub.execute_input": "2023-06-13T20:48:19.430147Z",
     "iopub.status.busy": "2023-06-13T20:48:19.429416Z",
     "iopub.status.idle": "2023-06-13T20:48:19.479585Z",
     "shell.execute_reply": "2023-06-13T20:48:19.478612Z",
     "shell.execute_reply.started": "2023-06-13T20:48:19.430001Z"
    }
   },
   "outputs": [],
   "source": [
    "import requests\n",
    "import json\n",
    "import random\n",
    "import time"
   ]
  },
  {
   "cell_type": "markdown",
   "id": "567089f5-3b89-41d6-9459-c91993bd6e4f",
   "metadata": {},
   "source": [
    "Then we can instantiate our simple function which waits for the readiness status:"
   ]
  },
  {
   "cell_type": "code",
   "execution_count": 9,
   "id": "7fc3b593-d474-4621-900d-87c92c172f73",
   "metadata": {
    "execution": {
     "iopub.execute_input": "2023-06-13T20:48:21.298495Z",
     "iopub.status.busy": "2023-06-13T20:48:21.298251Z",
     "iopub.status.idle": "2023-06-13T20:48:21.310821Z",
     "shell.execute_reply": "2023-06-13T20:48:21.310279Z",
     "shell.execute_reply.started": "2023-06-13T20:48:21.298476Z"
    }
   },
   "outputs": [],
   "source": [
    "# ```python:\n",
    "def wait_for_readiness(url):\n",
    "    while True:\n",
    "        try:\n",
    "            response = requests.get(f\"{url}/readiness\")\n",
    "            response = response.json()\n",
    "            if response['message'] == 'Readiness check succeeded.': \n",
    "                print(f\"Server ready - {response['message']}\")\n",
    "                break\n",
    "            else:\n",
    "                print(f\"Server waiting - {response['message']}\")\n",
    "                raise Exception\n",
    "        except Exception as e:\n",
    "            time.sleep(2)\n",
    "    return True\n",
    "# ```"
   ]
  },
  {
   "cell_type": "markdown",
   "id": "f562b5a0-6530-41af-b81c-c2cf6c051528",
   "metadata": {},
   "source": [
    "Next, we time and call the function:"
   ]
  },
  {
   "cell_type": "code",
   "execution_count": 10,
   "id": "a59642f5-c879-4496-887b-10362e03edd4",
   "metadata": {
    "execution": {
     "iopub.execute_input": "2023-06-13T20:48:23.121010Z",
     "iopub.status.busy": "2023-06-13T20:48:23.120767Z",
     "iopub.status.idle": "2023-06-13T20:48:23.382240Z",
     "shell.execute_reply": "2023-06-13T20:48:23.381613Z",
     "shell.execute_reply.started": "2023-06-13T20:48:23.120990Z"
    }
   },
   "outputs": [
    {
     "name": "stdout",
     "output_type": "stream",
     "text": [
      "Waiting for readiness...\n",
      "Server ready - Readiness check succeeded.\n",
      "Warm up time: 0.2541012028232217s\n"
     ]
    }
   ],
   "source": [
    "print(\"Waiting for readiness...\")\n",
    "\n",
    "warmup_start = time.perf_counter()\n",
    "ready = wait_for_readiness(\"http://0.0.0.0:8100\")\n",
    "\n",
    "print(f\"Warm up time: {time.perf_counter() - warmup_start}s\")"
   ]
  },
  {
   "cell_type": "markdown",
   "id": "0aeaa49b-c633-40d9-bf72-0c468d60a3ca",
   "metadata": {},
   "source": [
    "The message should say 'Readiness check succeeded', which means we are ready to start generating images with the model using the live endpoint.\n",
    "\n",
    "Lets create a dictionary for the parameters to send to the model. This is specific to and defined by the model endpoint that has been created. For Stable Diffusion, we must pass:\n",
    "\n",
    "* `prompt`: Main body of text describing the image we want to create.\n",
    "* `random_seed`: Can be used to emulate a deterministic image output from the same prompt each time (we set this to random to observe variation in the image).\n",
    "* `guidance scale`: Specific to Stable Diffusion, it controls how strongly the generated image will follow the text output.\n",
    "* `return_json`: Defines whether to return a JSON object in the response or not, to receive an encoded image, we want to set this to True.\n",
    "* `negative_prompt`: Defines any aspects we don't want to see in the image.\n",
    "* `num_inference_steps`: The number of sampling steps undertaken by the model, increasing this up to a point should improve the image quality of the generated image, 25-50 steps is a reasonable range for this."
   ]
  },
  {
   "cell_type": "code",
   "execution_count": 11,
   "id": "1b8abf76-b3e3-4675-9beb-204efcf3f745",
   "metadata": {
    "execution": {
     "iopub.execute_input": "2023-06-13T20:48:31.800272Z",
     "iopub.status.busy": "2023-06-13T20:48:31.800026Z",
     "iopub.status.idle": "2023-06-13T20:48:31.807584Z",
     "shell.execute_reply": "2023-06-13T20:48:31.806998Z",
     "shell.execute_reply.started": "2023-06-13T20:48:31.800252Z"
    }
   },
   "outputs": [],
   "source": [
    "model_params = {\n",
    "      \"prompt\": \"big red dog\",\n",
    "      \"random_seed\": random.randint(0,99999999),\n",
    "      \"guidance_scale\": 9,\n",
    "      \"return_json\": True,\n",
    "      \"negative_prompt\": \"string\",\n",
    "      \"num_inference_steps\": 25\n",
    "}"
   ]
  },
  {
   "cell_type": "markdown",
   "id": "80a6d975-111c-421f-8556-ae7700d6655e",
   "metadata": {},
   "source": [
    "Next, we can use `requests` to send a POST call to the REST endpoint at the IP address that the endpoint is running on. This will return an image in the response JSON body."
   ]
  },
  {
   "cell_type": "code",
   "execution_count": 12,
   "id": "fed413ef-950e-4231-9245-dfc4eb705ec3",
   "metadata": {
    "execution": {
     "iopub.execute_input": "2023-06-13T20:48:33.214323Z",
     "iopub.status.busy": "2023-06-13T20:48:33.214109Z",
     "iopub.status.idle": "2023-06-13T20:48:39.785560Z",
     "shell.execute_reply": "2023-06-13T20:48:39.785012Z",
     "shell.execute_reply.started": "2023-06-13T20:48:33.214304Z"
    }
   },
   "outputs": [],
   "source": [
    "response = requests.post(\"http://0.0.0.0:8100/stable_diffusion_2_txt2img_512\", json=model_params)\n",
    "\n",
    "if response.status_code != 200:\n",
    "    print(response.status_code)\n",
    "    \n",
    "response = response.json()"
   ]
  },
  {
   "cell_type": "markdown",
   "id": "83e6e3a7-36b4-4771-ba9c-8af639d45c1d",
   "metadata": {
    "tags": []
   },
   "source": [
    "Now, the image has been returned in Base64 encoded form within the JSON, we can decode this using the `base64` and `io` libraries to visualise the image. First, we decode the images returned by the model and convert them to PIL RGB images - in this case there is only one image."
   ]
  },
  {
   "cell_type": "code",
   "execution_count": 13,
   "id": "961f3a85-72fe-4122-ba77-2865421ee920",
   "metadata": {
    "execution": {
     "iopub.execute_input": "2023-06-13T20:48:39.840735Z",
     "iopub.status.busy": "2023-06-13T20:48:39.840523Z",
     "iopub.status.idle": "2023-06-13T20:48:39.941195Z",
     "shell.execute_reply": "2023-06-13T20:48:39.940365Z",
     "shell.execute_reply.started": "2023-06-13T20:48:39.840716Z"
    }
   },
   "outputs": [
    {
     "name": "stdout",
     "output_type": "stream",
     "text": [
      "Number of images returned:  1\n"
     ]
    }
   ],
   "source": [
    "from PIL import Image\n",
    "import base64\n",
    "import io\n",
    "\n",
    "images_b64 = [i for i in response['images']]\n",
    "\n",
    "pil_images = []\n",
    "for b64_img in images_b64:\n",
    "    base64bytes = base64.b64decode(b64_img)\n",
    "    bytesObj = io.BytesIO(base64bytes)\n",
    "    img = Image.open(bytesObj)\n",
    "    \n",
    "    pil_images.append(img)\n",
    "    \n",
    "print(\"Number of images returned: \", len(pil_images))"
   ]
  },
  {
   "cell_type": "markdown",
   "id": "4b8ea6c4-cb84-4112-8726-7aa167672d09",
   "metadata": {},
   "source": [
    "Finally, we can view the images with `matplotlib`:"
   ]
  },
  {
   "cell_type": "code",
   "execution_count": 14,
   "id": "3772cd2f-00db-45d4-9373-7e276bc5e929",
   "metadata": {
    "execution": {
     "iopub.execute_input": "2023-06-13T20:48:43.995736Z",
     "iopub.status.busy": "2023-06-13T20:48:43.995496Z",
     "iopub.status.idle": "2023-06-13T20:48:45.821283Z",
     "shell.execute_reply": "2023-06-13T20:48:45.820070Z",
     "shell.execute_reply.started": "2023-06-13T20:48:43.995716Z"
    },
    "tags": []
   },
   "outputs": [
    {
     "data": {
      "image/png": "[encoded data removed]",
      "text/plain": [
       "<Figure size 432x288 with 1 Axes>"
      ]
     },
     "metadata": {
      "needs_background": "light"
     },
     "output_type": "display_data"
    }
   ],
   "source": [
    "import matplotlib.pyplot as plt\n",
    "\n",
    "plt.axis('off')\n",
    "plt.imshow(pil_images[0])\n",
    "plt.show()"
   ]
  },
  {
   "cell_type": "code",
   "execution_count": null,
   "id": "73ee77bb-892a-4a4f-b352-73d5f7ce222f",
   "metadata": {},
   "outputs": [],
   "source": []
  },
  {
   "cell_type": "markdown",
   "id": "b11088fe-fb78-4dd2-b2f1-bb94be4fcebc",
   "metadata": {
    "tags": []
   },
   "source": [
    "## Build Container Image"
   ]
  },
  {
   "cell_type": "markdown",
   "id": "47fce5c6-79f7-41e3-962f-baecbd029696",
   "metadata": {},
   "source": [
    "To have a portable deployment in different platforms, it is recommended to build a container image which includes server files and model that were used previously to run the local endpoint. The container image could be uploaded to a container registry so that deployment would be simply pulling the image and running the endpoint.\n"
   ]
  },
  {
   "cell_type": "markdown",
   "id": "11edea52-7804-471f-883b-9314c14848d2",
   "metadata": {},
   "source": [
    "### (Optional) Build and upload the image manually"
   ]
  },
  {
   "cell_type": "markdown",
   "id": "c4f57d5a-3a8e-4fb5-bdd8-44666f98fa41",
   "metadata": {},
   "source": [
    "In a local workspace, to build the container we can simply run:\n",
    "```\n",
    "docker build -t <local_container_name> .\n",
    "```\n",
    "From the root directory of the repository.\n",
    "\n",
    "In this example, I will show how to use an alternative container manager to build the image with the available user privileges. For this purpose, we can use `buildah` and `podman` to run Docker-equivalent commands on a container. To build the container, we can use `buildah bud` rather than `Docker build` as such:"
   ]
  },
  {
   "cell_type": "code",
   "execution_count": 19,
   "id": "ae01b1da-0478-404f-8c2e-78f31741e02e",
   "metadata": {
    "execution": {
     "iopub.execute_input": "2023-06-13T20:56:35.753864Z",
     "iopub.status.busy": "2023-06-13T20:56:35.753618Z",
     "iopub.status.idle": "2023-06-13T20:56:35.887360Z",
     "shell.execute_reply": "2023-06-13T20:56:35.886884Z",
     "shell.execute_reply.started": "2023-06-13T20:56:35.753844Z"
    }
   },
   "outputs": [
    {
     "data": {
      "text/plain": [
       "32000"
      ]
     },
     "execution_count": 19,
     "metadata": {},
     "output_type": "execute_result"
    }
   ],
   "source": [
    "! buildah bud -t local-sd2-endpoint stable-diffusion/"
   ]
  },
  {
   "cell_type": "markdown",
   "id": "13e1546a-d4e3-409a-8ba8-66c55df54594",
   "metadata": {},
   "source": [
    "Next, tag the image with the name of your Dockerhub registry and the name with which to upload the image."
   ]
  },
  {
   "cell_type": "code",
   "execution_count": 26,
   "id": "20c253eb-543d-444a-a75f-868ec58e4fa7",
   "metadata": {
    "execution": {
     "iopub.execute_input": "2023-06-13T21:36:00.432894Z",
     "iopub.status.busy": "2023-06-13T21:36:00.432478Z",
     "iopub.status.idle": "2023-06-13T21:36:04.868975Z",
     "shell.execute_reply": "2023-06-13T21:36:04.868224Z",
     "shell.execute_reply.started": "2023-06-13T21:36:00.432870Z"
    }
   },
   "outputs": [
    {
     "name": "stdin",
     "output_type": "stream",
     "text": [
      "Enter your Dockerhub username timotdsantos\n"
     ]
    }
   ],
   "source": [
    "username = input(prompt=\"Enter your Dockerhub username\")"
   ]
  },
  {
   "cell_type": "code",
   "execution_count": 27,
   "id": "468d3c6c-64c7-4120-a7a9-b55afea930f7",
   "metadata": {
    "execution": {
     "iopub.execute_input": "2023-06-13T21:36:07.731716Z",
     "iopub.status.busy": "2023-06-13T21:36:07.731444Z",
     "iopub.status.idle": "2023-06-13T21:36:17.839080Z",
     "shell.execute_reply": "2023-06-13T21:36:17.838470Z",
     "shell.execute_reply.started": "2023-06-13T21:36:07.731697Z"
    }
   },
   "outputs": [
    {
     "name": "stdin",
     "output_type": "stream",
     "text": [
      "Enter an image name for the container to be uploaded to your Dockerhub registry sd2\n"
     ]
    }
   ],
   "source": [
    "container_name = input(prompt=\"Enter an image name for the container to be uploaded to your Dockerhub registry\")"
   ]
  },
  {
   "cell_type": "code",
   "execution_count": 28,
   "id": "95f0f93b-c13e-40e5-9fd5-c9fbc972f2a9",
   "metadata": {
    "execution": {
     "iopub.execute_input": "2023-06-13T21:36:20.091505Z",
     "iopub.status.busy": "2023-06-13T21:36:20.091267Z",
     "iopub.status.idle": "2023-06-13T21:36:20.158995Z",
     "shell.execute_reply": "2023-06-13T21:36:20.158435Z",
     "shell.execute_reply.started": "2023-06-13T21:36:20.091486Z"
    }
   },
   "outputs": [
    {
     "data": {
      "text/plain": [
       "32000"
      ]
     },
     "execution_count": 28,
     "metadata": {},
     "output_type": "execute_result"
    }
   ],
   "source": [
    "! buildah tag local-sd2-endpoint $username/$container_name"
   ]
  },
  {
   "cell_type": "markdown",
   "id": "81090b0c-3671-4f32-b4cf-181d4ab71433",
   "metadata": {},
   "source": [
    "Finally, push the built image to your personal Dockerhub registry."
   ]
  },
  {
   "cell_type": "code",
   "execution_count": 29,
   "id": "c0b33d17-70fa-4c0e-a6ac-f2a5409e53df",
   "metadata": {
    "execution": {
     "iopub.execute_input": "2023-06-13T21:38:36.588034Z",
     "iopub.status.busy": "2023-06-13T21:38:36.587800Z",
     "iopub.status.idle": "2023-06-13T21:38:36.617216Z",
     "shell.execute_reply": "2023-06-13T21:38:36.616681Z",
     "shell.execute_reply.started": "2023-06-13T21:38:36.588015Z"
    }
   },
   "outputs": [
    {
     "data": {
      "text/plain": [
       "32000"
      ]
     },
     "execution_count": 29,
     "metadata": {},
     "output_type": "execute_result"
    }
   ],
   "source": [
    "! buildah push docker.io://$username/$container_name"
   ]
  },
  {
   "cell_type": "markdown",
   "id": "8de1af75-3b1a-4e71-98a7-691a3677d2ba",
   "metadata": {
    "tags": []
   },
   "source": [
    "## (Optional) Create a simple demo frontend for your deployment with **Gradio**"
   ]
  },
  {
   "cell_type": "markdown",
   "id": "758f1ba6-cff2-4853-9699-f32f3321fb62",
   "metadata": {},
   "source": [
    "You can create a create an easy frontend demo for your deployment using Gradio. All you need is the URL of your deployment, and a simple function to process the Stable Diffusion 2 input parameters, request the model and decode the output image - the same process we set out for the local endpoint earlier:"
   ]
  },
  {
   "cell_type": "markdown",
   "id": "eb54a67a-a2fc-4f89-b124-e9e4cfd96e94",
   "metadata": {},
   "source": [
    "This notebook points by default to the locally hosted endpoint. If you would like to run the Gradio app with the launched Paperspace deployment, change the following cell to point to the generated Paperspace deployment URL."
   ]
  },
  {
   "cell_type": "code",
   "execution_count": 15,
   "id": "5580eea7-d257-416a-9d8f-658765d5a697",
   "metadata": {
    "execution": {
     "iopub.execute_input": "2023-06-13T20:48:56.758626Z",
     "iopub.status.busy": "2023-06-13T20:48:56.758279Z",
     "iopub.status.idle": "2023-06-13T20:48:56.762049Z",
     "shell.execute_reply": "2023-06-13T20:48:56.761456Z",
     "shell.execute_reply.started": "2023-06-13T20:48:56.758604Z"
    }
   },
   "outputs": [],
   "source": [
    "URL = \"http://0.0.0.0:8100\""
   ]
  },
  {
   "cell_type": "code",
   "execution_count": 16,
   "id": "c086dd24-64b8-42c0-83c8-b5115a833bf7",
   "metadata": {
    "execution": {
     "iopub.execute_input": "2023-06-13T20:48:57.557170Z",
     "iopub.status.busy": "2023-06-13T20:48:57.556918Z",
     "iopub.status.idle": "2023-06-13T20:48:59.199877Z",
     "shell.execute_reply": "2023-06-13T20:48:59.199319Z",
     "shell.execute_reply.started": "2023-06-13T20:48:57.557150Z"
    }
   },
   "outputs": [],
   "source": [
    "import gradio as gr\n",
    "import numpy as np\n",
    "\n",
    "def stable_diffusion_2_inference(prompt, guidance_scale, num_inference_steps):\n",
    "    model_params = {\n",
    "      \"prompt\": prompt,\n",
    "      \"random_seed\": random.randint(0,99999999),\n",
    "      \"guidance_scale\": guidance_scale,\n",
    "      \"return_json\": True,\n",
    "      \"negative_prompt\": \"string\",\n",
    "      \"num_inference_steps\": num_inference_steps\n",
    "    }\n",
    "    \n",
    "    response = requests.post(f\"{URL}/stable_diffusion_2_txt2img_512\", json=model_params)\n",
    "    response = response.json()\n",
    "    \n",
    "    images_b64 = [i for i in response['images']]\n",
    "    pil_images = []\n",
    "    for b64_img in images_b64:\n",
    "        base64bytes = base64.b64decode(b64_img)\n",
    "        bytesObj = io.BytesIO(base64bytes)\n",
    "        img = Image.open(bytesObj)\n",
    "\n",
    "        pil_images.append(img)\n",
    "    \n",
    "    return np.array(pil_images[0])"
   ]
  },
  {
   "cell_type": "markdown",
   "id": "f261d1eb-1558-47ca-933c-b185884105e6",
   "metadata": {},
   "source": [
    "Then, we can initialise the Gradio app to launch a GUI from inside this notebook by defining our inputs, outputs and the processing function:"
   ]
  },
  {
   "cell_type": "code",
   "execution_count": 17,
   "id": "1f7d9a00-34bb-4408-bc59-3991df11aaf5",
   "metadata": {
    "execution": {
     "iopub.execute_input": "2023-06-13T20:49:01.524394Z",
     "iopub.status.busy": "2023-06-13T20:49:01.523997Z",
     "iopub.status.idle": "2023-06-13T20:49:17.677467Z",
     "shell.execute_reply": "2023-06-13T20:49:17.676925Z",
     "shell.execute_reply.started": "2023-06-13T20:49:01.524373Z"
    }
   },
   "outputs": [
    {
     "name": "stdout",
     "output_type": "stream",
     "text": [
      "Running on local URL:  http://127.0.0.1:7860\n",
      "Running on public URL: https://ec810cd3c2781fa88f.gradio.live\n",
      "\n",
      "This share link expires in 72 hours. For free permanent hosting and GPU upgrades, run `gradio deploy` from Terminal to deploy to Spaces (https://huggingface.co/spaces)\n"
     ]
    },
    {
     "data": {
      "text/html": [
       "<div><iframe src=\"https://ec810cd3c2781fa88f.gradio.live\" width=\"100%\" height=\"500\" allow=\"autoplay; camera; microphone; clipboard-read; clipboard-write;\" frameborder=\"0\" allowfullscreen></iframe></div>"
      ],
      "text/plain": [
       "<IPython.core.display.HTML object>"
      ]
     },
     "metadata": {},
     "output_type": "display_data"
    },
    {
     "data": {
      "text/plain": []
     },
     "execution_count": 17,
     "metadata": {},
     "output_type": "execute_result"
    }
   ],
   "source": [
    "gr.close_all()\n",
    "demo = gr.Interface(\n",
    "    fn=stable_diffusion_2_inference, \n",
    "    inputs=[gr.Textbox(value=\"Ice skating on the moon\"),\n",
    "            gr.Slider(1,50,value=9, step=1, label='Guidance scale'),\n",
    "            gr.Slider(1,100,value=25, step=1, label='Number of steps')\n",
    "           ], \n",
    "    outputs=gr.Image(shape=(512,512))\n",
    "    )\n",
    "\n",
    "demo.launch(share=True)"
   ]
  },
  {
   "cell_type": "code",
   "execution_count": 12,
   "id": "d0308a97-90d9-4152-aafc-708ed10a3875",
   "metadata": {},
   "outputs": [
    {
     "name": "stdout",
     "output_type": "stream",
     "text": [
      "Hit:1 http://archive.ubuntu.com/ubuntu focal InRelease                         \u001b[0m\u001b[33m\u001b[33m\u001b[33m\u001b[33m\u001b[33m\n",
      "Hit:2 http://security.ubuntu.com/ubuntu focal-security InRelease    \u001b[0m       \n",
      "Get:3 http://download.opensuse.org/repositories/devel:/kubic:/libcontainers:/stable/xUbuntu_20.04  InRelease [1642 B]\n",
      "Hit:4 http://archive.ubuntu.com/ubuntu focal-updates InRelease\n",
      "Hit:5 http://archive.ubuntu.com/ubuntu focal-backports InRelease\n",
      "Fetched 1642 B in 7s (247 B/s)[33m\u001b[33m\n",
      "Reading package lists... Done\n",
      "Building dependency tree       \n",
      "Reading state information... Done\n",
      "61 packages can be upgraded. Run 'apt list --upgradable' to see them.\n",
      "Reading package lists... Done\n",
      "Building dependency tree       \n",
      "Reading state information... Done\n",
      "The following additional packages will be installed:\n",
      "  apparmor libfuse2 liblzo2-2 squashfs-tools\n",
      "Suggested packages:\n",
      "  apparmor-profiles-extra apparmor-utils zenity | kdialog\n",
      "The following NEW packages will be installed:\n",
      "  apparmor libfuse2 liblzo2-2 snapd squashfs-tools\n",
      "0 upgraded, 5 newly installed, 0 to remove and 61 not upgraded.\n",
      "Need to get 38.6 MB of archives.\n",
      "After this operation, 174 MB of additional disk space will be used.\n",
      "Get:1 http://archive.ubuntu.com/ubuntu focal-updates/main amd64 apparmor amd64 2.13.3-7ubuntu5.2 [502 kB]\n",
      "Get:2 http://archive.ubuntu.com/ubuntu focal/main amd64 libfuse2 amd64 2.9.9-3 [82.0 kB]\n",
      "Get:3 http://archive.ubuntu.com/ubuntu focal/main amd64 liblzo2-2 amd64 2.10-2 [50.8 kB]\n",
      "Get:4 http://archive.ubuntu.com/ubuntu focal-updates/main amd64 squashfs-tools amd64 1:4.4-1ubuntu0.3 [117 kB]\n",
      "Get:5 http://archive.ubuntu.com/ubuntu focal-updates/main amd64 snapd amd64 2.58+20.04 [37.9 MB]\n",
      "Fetched 38.6 MB in 7s (5592 kB/s)\u001b[0m\u001b[33m\n",
      "debconf: unable to initialize frontend: Dialog\n",
      "debconf: (No usable dialog-like program is installed, so the dialog based frontend cannot be used. at /usr/share/perl5/Debconf/FrontEnd/Dialog.pm line 76, <> line 5.)\n",
      "debconf: falling back to frontend: Readline\n",
      "Preconfiguring packages ...\n",
      "\n",
      "\u001b7\u001b[0;23r\u001b8\u001b[1ASelecting previously unselected package apparmor.\n",
      "(Reading database ... 59528 files and directories currently installed.)\n",
      "Preparing to unpack .../apparmor_2.13.3-7ubuntu5.2_amd64.deb ...\n",
      "\u001b7\u001b[24;0f\u001b[42m\u001b[30mProgress: [  0%]\u001b[49m\u001b[39m [..........................................................] \u001b8\u001b7\u001b[24;0f\u001b[42m\u001b[30mProgress: [  5%]\u001b[49m\u001b[39m [##........................................................] \u001b8Unpacking apparmor (2.13.3-7ubuntu5.2) ...\n",
      "\u001b7\u001b[24;0f\u001b[42m\u001b[30mProgress: [ 10%]\u001b[49m\u001b[39m [#####.....................................................] \u001b8Selecting previously unselected package libfuse2:amd64.\n",
      "Preparing to unpack .../libfuse2_2.9.9-3_amd64.deb ...\n",
      "\u001b7\u001b[24;0f\u001b[42m\u001b[30mProgress: [ 14%]\u001b[49m\u001b[39m [########..................................................] \u001b8Unpacking libfuse2:amd64 (2.9.9-3) ...\n",
      "\u001b7\u001b[24;0f\u001b[42m\u001b[30mProgress: [ 19%]\u001b[49m\u001b[39m [###########...............................................] \u001b8Selecting previously unselected package liblzo2-2:amd64.\n",
      "Preparing to unpack .../liblzo2-2_2.10-2_amd64.deb ...\n",
      "\u001b7\u001b[24;0f\u001b[42m\u001b[30mProgress: [ 24%]\u001b[49m\u001b[39m [#############.............................................] \u001b8Unpacking liblzo2-2:amd64 (2.10-2) ...\n",
      "\u001b7\u001b[24;0f\u001b[42m\u001b[30mProgress: [ 29%]\u001b[49m\u001b[39m [################..........................................] \u001b8Selecting previously unselected package squashfs-tools.\n",
      "Preparing to unpack .../squashfs-tools_1%3a4.4-1ubuntu0.3_amd64.deb ...\n",
      "\u001b7\u001b[24;0f\u001b[42m\u001b[30mProgress: [ 33%]\u001b[49m\u001b[39m [###################.......................................] \u001b8Unpacking squashfs-tools (1:4.4-1ubuntu0.3) ...\n",
      "\u001b7\u001b[24;0f\u001b[42m\u001b[30mProgress: [ 38%]\u001b[49m\u001b[39m [######################....................................] \u001b8Selecting previously unselected package snapd.\n",
      "Preparing to unpack .../snapd_2.58+20.04_amd64.deb ...\n",
      "\u001b7\u001b[24;0f\u001b[42m\u001b[30mProgress: [ 43%]\u001b[49m\u001b[39m [########################..................................] \u001b8Unpacking snapd (2.58+20.04) ...\n",
      "\u001b7\u001b[24;0f\u001b[42m\u001b[30mProgress: [ 48%]\u001b[49m\u001b[39m [###########################...............................] \u001b8Setting up liblzo2-2:amd64 (2.10-2) ...\n",
      "\u001b7\u001b[24;0f\u001b[42m\u001b[30mProgress: [ 52%]\u001b[49m\u001b[39m [##############################............................] \u001b8\u001b7\u001b[24;0f\u001b[42m\u001b[30mProgress: [ 57%]\u001b[49m\u001b[39m [#################################.........................] \u001b8Setting up libfuse2:amd64 (2.9.9-3) ...\n",
      "\u001b7\u001b[24;0f\u001b[42m\u001b[30mProgress: [ 62%]\u001b[49m\u001b[39m [###################################.......................] \u001b8\u001b7\u001b[24;0f\u001b[42m\u001b[30mProgress: [ 67%]\u001b[49m\u001b[39m [######################################....................] \u001b8Setting up apparmor (2.13.3-7ubuntu5.2) ...\n",
      "\u001b7\u001b[24;0f\u001b[42m\u001b[30mProgress: [ 71%]\u001b[49m\u001b[39m [#########################################.................] \u001b8debconf: unable to initialize frontend: Dialog\n",
      "debconf: (No usable dialog-like program is installed, so the dialog based frontend cannot be used. at /usr/share/perl5/Debconf/FrontEnd/Dialog.pm line 76.)\n",
      "debconf: falling back to frontend: Readline\n",
      "Created symlink /etc/systemd/system/sysinit.target.wants/apparmor.service → /lib/systemd/system/apparmor.service.\n",
      "\u001b7\u001b[24;0f\u001b[42m\u001b[30mProgress: [ 76%]\u001b[49m\u001b[39m [############################################..............] \u001b8Setting up squashfs-tools (1:4.4-1ubuntu0.3) ...\n",
      "\u001b7\u001b[24;0f\u001b[42m\u001b[30mProgress: [ 81%]\u001b[49m\u001b[39m [##############################################............] \u001b8\u001b7\u001b[24;0f\u001b[42m\u001b[30mProgress: [ 86%]\u001b[49m\u001b[39m [#################################################.........] \u001b8Setting up snapd (2.58+20.04) ...\n",
      "\u001b7\u001b[24;0f\u001b[42m\u001b[30mProgress: [ 90%]\u001b[49m\u001b[39m [####################################################......] \u001b8Created symlink /etc/systemd/system/multi-user.target.wants/snapd.aa-prompt-listener.service → /lib/systemd/system/snapd.aa-prompt-listener.service.\n",
      "Created symlink /etc/systemd/system/multi-user.target.wants/snapd.apparmor.service → /lib/systemd/system/snapd.apparmor.service.\n",
      "Created symlink /etc/systemd/system/multi-user.target.wants/snapd.autoimport.service → /lib/systemd/system/snapd.autoimport.service.\n",
      "Created symlink /etc/systemd/system/multi-user.target.wants/snapd.core-fixup.service → /lib/systemd/system/snapd.core-fixup.service.\n",
      "Created symlink /etc/systemd/system/multi-user.target.wants/snapd.recovery-chooser-trigger.service → /lib/systemd/system/snapd.recovery-chooser-trigger.service.\n",
      "Created symlink /etc/systemd/system/multi-user.target.wants/snapd.seeded.service → /lib/systemd/system/snapd.seeded.service.\n",
      "Created symlink /etc/systemd/system/cloud-final.service.wants/snapd.seeded.service → /lib/systemd/system/snapd.seeded.service.\n",
      "Created symlink /etc/systemd/system/multi-user.target.wants/snapd.service → /lib/systemd/system/snapd.service.\n",
      "Created symlink /etc/systemd/system/timers.target.wants/snapd.snap-repair.timer → /lib/systemd/system/snapd.snap-repair.timer.\n",
      "Created symlink /etc/systemd/system/sockets.target.wants/snapd.socket → /lib/systemd/system/snapd.socket.\n",
      "Created symlink /etc/systemd/system/final.target.wants/snapd.system-shutdown.service → /lib/systemd/system/snapd.system-shutdown.service.\n",
      "\u001b7\u001b[24;0f\u001b[42m\u001b[30mProgress: [ 95%]\u001b[49m\u001b[39m [#######################################################...] \u001b8Processing triggers for libc-bin (2.31-0ubuntu9.9) ...\n",
      "Processing triggers for systemd (245.4-4ubuntu3.20) ...\n",
      "Processing triggers for man-db (2.9.1-1) ...\n",
      "Processing triggers for dbus (1.12.16-2ubuntu2.3) ...\n",
      "Processing triggers for mime-support (3.64ubuntu1) ...\n",
      "\n",
      "\u001b7\u001b[0;24r\u001b8\u001b[1A\u001b[J"
     ]
    }
   ],
   "source": [
    "# !sudo apt -y update && sudo apt -y install snapd"
   ]
  },
  {
   "cell_type": "markdown",
   "id": "e68a9fb5-57a9-4170-b61a-3a69c1d6d4e8",
   "metadata": {},
   "source": [
    "# Try sending a curl command from outside the notebook\n",
    "\n",
    "https://ngrok.com/\n",
    "\n",
    "`ngrok` is a tool that creates a secure tunnel from the public internet to a local server on your machine. \n",
    "This will let you access this API endpoint that is within this notebook environment, as if it were a server.\n"
   ]
  },
  {
   "cell_type": "code",
   "execution_count": 18,
   "id": "722ade5c-73ba-4872-9e65-69da037f6683",
   "metadata": {
    "execution": {
     "iopub.execute_input": "2023-06-13T20:50:17.433076Z",
     "iopub.status.busy": "2023-06-13T20:50:17.432810Z",
     "iopub.status.idle": "2023-06-13T20:50:38.661332Z",
     "shell.execute_reply": "2023-06-13T20:50:38.660431Z",
     "shell.execute_reply.started": "2023-06-13T20:50:17.433054Z"
    },
    "tags": []
   },
   "outputs": [
    {
     "data": {
      "text/plain": [
       "0"
      ]
     },
     "execution_count": 18,
     "metadata": {},
     "output_type": "execute_result"
    }
   ],
   "source": [
    "# Download and install NGROK\n",
    "!curl -s https://ngrok-agent.s3.amazonaws.com/ngrok.asc | \\\n",
    "  sudo tee /etc/apt/trusted.gpg.d/ngrok.asc >/dev/null && \\\n",
    "  echo \"deb https://ngrok-agent.s3.amazonaws.com buster main\" | \\\n",
    "  sudo tee /etc/apt/sources.list.d/ngrok.list && \\\n",
    "  sudo apt update && sudo apt install ngrok"
   ]
  },
  {
   "cell_type": "code",
   "execution_count": 18,
   "id": "c87f1a68-10f8-4a9e-afc8-785108d84e1d",
   "metadata": {},
   "outputs": [
    {
     "name": "stdout",
     "output_type": "stream",
     "text": [
      "\u001b7\u001b[?47h\u001b[?1h\u001b=\u0002\u0007\u001b[H\u001b[2J\u001b[m\u001b[38;5;6m\u001b[48;5;16m\u001b[1m\u001b[1;1Hngrok\u001b[m\u001b[38;5;16m\u001b[48;5;16m                                                           \u001b[m\u001b[38;5;7m\u001b[48;5;16m(Ctrl+C to quit)\u001b[m\u001b[38;5;16m\u001b[48;5;16m\u001b[2;1H                                                                                \u001b[m\u001b[38;5;6m\u001b[48;5;16m\u001b[3;1HSession Status                connecting\u001b[m\u001b[38;5;16m\u001b[48;5;16m                                        \u001b[m\u001b[38;5;7m\u001b[48;5;16m\u001b[4;1HVersion                       3.3.0\u001b[m\u001b[38;5;16m\u001b[48;5;16m                                             \u001b[m\u001b[38;5;7m\u001b[48;5;16m\u001b[5;1HLatency                       -\u001b[m\u001b[38;5;16m\u001b[48;5;16m                                                 \u001b[m\u001b[38;5;7m\u001b[48;5;16m\u001b[6;1HWeb Interface                 http://127.0.0.1:4040\u001b[m\u001b[38;5;16m\u001b[48;5;16m                             \u001b[7;1H                                                                                \u001b[m\u001b[38;5;7m\u001b[48;5;16m\u001b[8;1HConnections                   ttl     opn     rt1     rt5     p50     p90     \u001b[m\u001b[38;5;16m\u001b[48;5;16m  \u001b[m\u001b[38;5;7m\u001b[48;5;16m\u001b[9;1H                              0       0       0.00    0.00    0.00    0.00    \u001b[m\u001b[38;5;16m\u001b[48;5;16m  \u001b[10;1H                                                                                \u001b[11;1H                                                                                \u001b[12;1H                                                                                \u001b[13;1H                                                                                \u001b[14;1H                                                                                \u001b[15;1H                                                                                \u001b[16;1H                                                                                \u001b[17;1H                                                                                \u001b[18;1H                                                                                \u001b[19;1H                                                                                \u001b[20;1H                                                                                \u001b[21;1H                                                                                \u001b[22;1H                                                                                \u001b[23;1H                                                                                \u001b[24;1H                                                                                \u001b[m\u001b[38;5;5m\u001b[48;5;16m\u001b[3;1HWe're hiring at ngrok! Check out our open roles here: https://ngrok.com/careers\u001b[m\u001b[38;5;16m\u001b[48;5;16m\u001b[4;1H                                   \u001b[m\u001b[38;5;2m\u001b[48;5;16m\u001b[5;1HSession Status                online\u001b[m\u001b[38;5;7m\u001b[48;5;16m\u001b[6;1HS\u001b[6;3Hssion Expires\u001b[6;31H1 hour, 59 minutes\u001b[m\u001b[38;5;16m\u001b[48;5;16m   \u001b[m\u001b[38;5;7m\u001b[48;5;16m\u001b[7;1HTerms of Service              https://ngrok.com/tos\u001b[8;1HVersion    \u001b[8;31H3.3.0\u001b[m\u001b[38;5;16m\u001b[48;5;16m                                           \u001b[m\u001b[38;5;7m\u001b[48;5;16m\u001b[9;1HRegion\u001b[9;31HUnited\u001b[9;38HStates\u001b[9;45H(us)\u001b[m\u001b[38;5;16m\u001b[48;5;16m                              \u001b[m\u001b[38;5;7m\u001b[48;5;16m\u001b[10;1HLatency                       -\u001b[11;1HWeb Interface                 http://127.0.0.1:4040\u001b[12;1HForwarding                    https://12c5-38-83-162-251.ngrok.io -> http://loca\u001b[14;1HConnections                   ttl     opn     rt1     rt5     p50     p90     \u001b[15;1H                              0       0       0.00    0.00    0.00    0.00    \u001b[10;31H27ms\u001b[15;39H1\u001b[17;1HHTTP Requests\u001b[18;1H-------------\u001b[20;1HPOST\u001b[20;6H/stable_diffusion_2_txt2img_512\u001b[20;38H200 OK\u001b[15;31H1\u001b[15;39H0\u001b[15;63H9\u001b[15;65H63\u001b[15;71H9\u001b[15;73H63\u0002\u0007\u001b[m\u001b[H\u001b[2J\u001b[2J\u001b[?47l\u001b8\u001b[?1l\u001b>\u001b[?1006l\u001b[?1015l\u001b[?1002l\u001b[?1000l"
     ]
    }
   ],
   "source": [
    "# Let us listen to the port 8100, the port we have set in our FastAPI code\n",
    "# !ngrok http 8100"
   ]
  },
  {
   "cell_type": "markdown",
   "id": "0178fe72-46d1-429d-b4a6-9c80f1ba4c7d",
   "metadata": {},
   "source": [
    "![](../ngrok.png)"
   ]
  },
  {
   "cell_type": "markdown",
   "id": "0de57303-7afd-4eb3-8913-57dd6824e584",
   "metadata": {},
   "source": [
    "![](../postman.png)"
   ]
  },
  {
   "cell_type": "code",
   "execution_count": null,
   "id": "0a22a26b-22a5-4dbe-a505-dbb5606753d6",
   "metadata": {},
   "outputs": [],
   "source": [
    "# <NGROK-URL>/stable_diffusion_2_txt2img_512\n",
    "\n",
    "{\n",
    "      \"prompt\": \"big red dog\",\n",
    "      \"random_seed\": 31337,\n",
    "      \"guidance_scale\": 9,\n",
    "      \"return_json\": false,\n",
    "      \"negative_prompt\": \"string\",\n",
    "      \"num_inference_steps\": 25\n",
    "}\n",
    "\n",
    "\n",
    " curl -X POST --output ~/Desktop/test.jpg -H \"Content-Type: application/json\"  -d '{ \"prompt\": \"big red dog\", \"random_seed\": 31337, \"guidance_scale\": 9, \"return_json\": false, \"negative_prompt\": \"string\",      \"num_inference_steps\": 25}' https://d896-38-83-162-251.ngrok.io/stable_diffusion_2_txt2img_512\n",
    "\n"
   ]
  }
 ],
 "metadata": {
  "kernelspec": {
   "display_name": "Python 3",
   "language": "python",
   "name": "python3"
  },
  "language_info": {
   "codemirror_mode": {
    "name": "ipython",
    "version": 3
   },
   "file_extension": ".py",
   "mimetype": "text/x-python",
   "name": "python",
   "nbconvert_exporter": "python",
   "pygments_lexer": "ipython3",
   "version": "3.8.10"
  }
 },
 "nbformat": 4,
 "nbformat_minor": 5
}
